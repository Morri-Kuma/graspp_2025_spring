{
 "cells": [
  {
   "cell_type": "markdown",
   "id": "ccd9c638-9ffa-4fb5-9d65-399d787d18da",
   "metadata": {},
   "source": [
    "# Scraping"
   ]
  },
  {
   "cell_type": "code",
   "execution_count": 10,
   "id": "8c05b1cc-2128-4dd1-8b9b-4473678cd8ba",
   "metadata": {},
   "outputs": [],
   "source": [
    "import re\n",
    "from selenium import webdriver\n",
    "from selenium.webdriver.common.by import By\n",
    "import time"
   ]
  },
  {
   "cell_type": "markdown",
   "id": "942dac46-ec54-4ddb-8f0d-2d63c05ee5e9",
   "metadata": {},
   "source": [
    "## 1. Selenium\n",
    "## 1.1 Scrape links"
   ]
  },
  {
   "cell_type": "code",
   "execution_count": 48,
   "id": "061e2b7d-b3fe-43cf-a1f6-07f79ef31b1e",
   "metadata": {},
   "outputs": [],
   "source": [
    "url = \"https://ec.europa.eu/commission/presscorner/home/en?dotyp=&keywords=GHG&commissioner=\"\n",
    "driver = webdriver.Chrome()\n",
    "driver.get(url)"
   ]
  },
  {
   "cell_type": "code",
   "execution_count": 52,
   "id": "a1e32cda-3f6c-43d9-a95c-713cff844ef4",
   "metadata": {},
   "outputs": [
    {
     "data": {
      "text/plain": [
       "['https://ec.europa.eu/commission/presscorner/detail/en/mex_25_1333',\n",
       " 'https://ec.europa.eu/commission/presscorner/detail/en/mex_25_1287']"
      ]
     },
     "execution_count": 52,
     "metadata": {},
     "output_type": "execute_result"
    }
   ],
   "source": [
    "page_content = driver.find_element(By.ID, 'news-block')\n",
    "# Now, find all <a> tags *within* that specific 'page_content' element\n",
    "all_links= page_content.find_elements(By.TAG_NAME, 'a')\n",
    "\n",
    "links = []\n",
    "for link in all_links:\n",
    "    href = link.get_attribute('href')\n",
    "    text = link.text\n",
    "    #print(f\"Link Text: '{text}', URL: '{href}'\")\n",
    "    links.append(href)\n",
    "links = [link for link in links if link!=None and len(link)>0]\n",
    "links[:2]"
   ]
  },
  {
   "cell_type": "markdown",
   "id": "795bd8e3-2671-4612-9dbd-f433e3acbec6",
   "metadata": {},
   "source": [
    "## 1.2 Scrape all links"
   ]
  },
  {
   "cell_type": "code",
   "execution_count": 87,
   "id": "df9b4df3-db26-4569-8082-88de947f3017",
   "metadata": {},
   "outputs": [],
   "source": [
    "#driver = webdriver.Chrome()\n",
    "def scrape_page(url):\n",
    "    driver.get(url)\n",
    "    time.sleep(4)\n",
    "    #page_title\n",
    "    page_title = driver.find_element(By.TAG_NAME, 'h1').text\n",
    "    #page_content\n",
    "    page_content = driver.find_element(By.CLASS_NAME, 'ecl-col-l-9').text\n",
    "    #date\n",
    "    els = driver.find_elements(By.CLASS_NAME, 'ecl-page-header__meta-item')\n",
    "    els = [el.text for el in els]\n",
    "    date = next((item for item in els if re.search(r'\\d{4}', item)), None)\n",
    "    \n",
    "    final_text = f\"{page_title}\\n{page_content}\"\n",
    "    return date.replace(\",\",\"\").replace(\" \", \"_\"), final_text"
   ]
  },
  {
   "cell_type": "markdown",
   "id": "c12034ed-6890-470e-9a7f-8a5a1ffecbe9",
   "metadata": {},
   "source": [
    "### 1.2.1 Example"
   ]
  },
  {
   "cell_type": "code",
   "execution_count": 63,
   "id": "81926cd3-483b-4ed5-bc64-dac797ad5742",
   "metadata": {},
   "outputs": [
    {
     "data": {
      "text/plain": [
       "\"Daily News 20 / 05 / 2025\\nCommission welcomes political agreement on the progressive rollout of Europe's New Digital Border System\\nThe European Commission welcomes yesterday's provisional political agreement by the European Parliament and the Council on the Commission's proposal for a progressive rollout of Europe's new digital border system, the Entry/Exit System (EES).\\nThis agreement will allow \""
      ]
     },
     "execution_count": 63,
     "metadata": {},
     "output_type": "execute_result"
    }
   ],
   "source": [
    "date, final_text = scrape_page(links[1])\n",
    "final_text[:400]"
   ]
  },
  {
   "cell_type": "markdown",
   "id": "1c9bf38f-ca9c-4b5d-a728-59d0bb557b9f",
   "metadata": {},
   "source": [
    "### 1.2.2 Scrape all"
   ]
  },
  {
   "cell_type": "code",
   "execution_count": 65,
   "id": "70664271-a0e5-4d1f-96f6-2b5add8ecbda",
   "metadata": {},
   "outputs": [],
   "source": [
    "scrape_dictionary = {}\n",
    "from tqdm import tqdm\n",
    "for link in tqdm(links):\n",
    "    try:\n",
    "        date, final_text = scrape_page(link)\n",
    "        scrape_dictionary[date] = final_text\n",
    "    except:\n",
    "        print(\"LINK DIDNT WORK\", link)\n"
   ]
  },
  {
   "cell_type": "markdown",
   "id": "8a0950a0-1859-468f-93ab-ade5c130fbce",
   "metadata": {},
   "source": [
    "### 1.2.3 Convert results to data frame"
   ]
  },
  {
   "cell_type": "code",
   "execution_count": 82,
   "id": "7c439a0f-7ce7-4395-92be-a376e058d68c",
   "metadata": {
    "scrolled": true
   },
   "outputs": [
    {
     "data": {
      "text/html": [
       "<div>\n",
       "<style scoped>\n",
       "    .dataframe tbody tr th:only-of-type {\n",
       "        vertical-align: middle;\n",
       "    }\n",
       "\n",
       "    .dataframe tbody tr th {\n",
       "        vertical-align: top;\n",
       "    }\n",
       "\n",
       "    .dataframe thead th {\n",
       "        text-align: right;\n",
       "    }\n",
       "</style>\n",
       "<table border=\"1\" class=\"dataframe\">\n",
       "  <thead>\n",
       "    <tr style=\"text-align: right;\">\n",
       "      <th></th>\n",
       "      <th>text</th>\n",
       "    </tr>\n",
       "    <tr>\n",
       "      <th>date</th>\n",
       "      <th></th>\n",
       "    </tr>\n",
       "  </thead>\n",
       "  <tbody>\n",
       "    <tr>\n",
       "      <th>Apr_12_2024</th>\n",
       "      <td>Questions and Answers on the revised Energy Pe...</td>\n",
       "    </tr>\n",
       "    <tr>\n",
       "      <th>Apr_5_2024</th>\n",
       "      <td>Commission approves €350 million German State ...</td>\n",
       "    </tr>\n",
       "  </tbody>\n",
       "</table>\n",
       "</div>"
      ],
      "text/plain": [
       "                                                          text\n",
       "date                                                          \n",
       "Apr_12_2024  Questions and Answers on the revised Energy Pe...\n",
       "Apr_5_2024   Commission approves €350 million German State ..."
      ]
     },
     "execution_count": 82,
     "metadata": {},
     "output_type": "execute_result"
    }
   ],
   "source": [
    "import pandas as pd\n",
    "df_text = pd.DataFrame.from_dict(scrape_dictionary, orient = 'index', columns = ['text'])\n",
    "df_text.index.name = 'date'\n",
    "df_text.tail(2)"
   ]
  },
  {
   "cell_type": "markdown",
   "id": "9501c648-ff71-47be-a3ff-22ff42db9ed5",
   "metadata": {},
   "source": [
    "### 1.2.4 Export"
   ]
  },
  {
   "cell_type": "code",
   "execution_count": 83,
   "id": "41f0ed2f-637c-455f-bd3e-88e8251d6279",
   "metadata": {},
   "outputs": [
    {
     "data": {
      "text/plain": [
       "[]"
      ]
     },
     "execution_count": 83,
     "metadata": {},
     "output_type": "execute_result"
    }
   ],
   "source": [
    "import os\n",
    "export_path = \"../../data/examples/module_4\"\n",
    "os.listdir(export_path)"
   ]
  },
  {
   "cell_type": "code",
   "execution_count": 85,
   "id": "b93bddc1-94ae-4328-bb90-c0ff1f4dfa8e",
   "metadata": {},
   "outputs": [],
   "source": [
    "file_name = f\"{export_path}/eu_press_releases_ghg.csv\"\n",
    "df_text.to_csv(file_name)"
   ]
  },
  {
   "cell_type": "code",
   "execution_count": 88,
   "id": "8fd962af-941e-497a-9163-70ec87d453f4",
   "metadata": {},
   "outputs": [
    {
     "data": {
      "text/html": [
       "<div>\n",
       "<style scoped>\n",
       "    .dataframe tbody tr th:only-of-type {\n",
       "        vertical-align: middle;\n",
       "    }\n",
       "\n",
       "    .dataframe tbody tr th {\n",
       "        vertical-align: top;\n",
       "    }\n",
       "\n",
       "    .dataframe thead th {\n",
       "        text-align: right;\n",
       "    }\n",
       "</style>\n",
       "<table border=\"1\" class=\"dataframe\">\n",
       "  <thead>\n",
       "    <tr style=\"text-align: right;\">\n",
       "      <th></th>\n",
       "      <th>date</th>\n",
       "      <th>text</th>\n",
       "    </tr>\n",
       "  </thead>\n",
       "  <tbody>\n",
       "    <tr>\n",
       "      <th>0</th>\n",
       "      <td>May_26_2025</td>\n",
       "      <td>Daily News 26 / 05 / 2025\\nEU organises firefi...</td>\n",
       "    </tr>\n",
       "    <tr>\n",
       "      <th>1</th>\n",
       "      <td>May_20_2025</td>\n",
       "      <td>Commission approves €1.2 billion Dutch State a...</td>\n",
       "    </tr>\n",
       "  </tbody>\n",
       "</table>\n",
       "</div>"
      ],
      "text/plain": [
       "          date                                               text\n",
       "0  May_26_2025  Daily News 26 / 05 / 2025\\nEU organises firefi...\n",
       "1  May_20_2025  Commission approves €1.2 billion Dutch State a..."
      ]
     },
     "execution_count": 88,
     "metadata": {},
     "output_type": "execute_result"
    }
   ],
   "source": [
    "pd.read_csv(file_name).head(2)"
   ]
  },
  {
   "cell_type": "code",
   "execution_count": null,
   "id": "56949732-3afc-409d-ac16-d4801d387b4d",
   "metadata": {},
   "outputs": [],
   "source": []
  }
 ],
 "metadata": {
  "kernelspec": {
   "display_name": "Python 3 (ipykernel)",
   "language": "python",
   "name": "python3"
  },
  "language_info": {
   "codemirror_mode": {
    "name": "ipython",
    "version": 3
   },
   "file_extension": ".py",
   "mimetype": "text/x-python",
   "name": "python",
   "nbconvert_exporter": "python",
   "pygments_lexer": "ipython3",
   "version": "3.12.7"
  }
 },
 "nbformat": 4,
 "nbformat_minor": 5
}
