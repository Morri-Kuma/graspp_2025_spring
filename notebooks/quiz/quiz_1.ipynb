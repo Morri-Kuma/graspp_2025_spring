{
 "cells": [
  {
   "cell_type": "markdown",
   "id": "be46d9cb-39fa-44a1-8789-64fdc0e5e314",
   "metadata": {},
   "source": [
    "# 1. Merge data"
   ]
  },
  {
   "cell_type": "code",
   "execution_count": 1,
   "id": "4c75d67b-e4dc-4fba-9e67-b85bcba3e3ed",
   "metadata": {},
   "outputs": [
    {
     "data": {
      "text/plain": [
       "['quiz_1.ipynb', '.ipynb_checkpoints']"
      ]
     },
     "execution_count": 1,
     "metadata": {},
     "output_type": "execute_result"
    }
   ],
   "source": [
    "import pandas as pd\n",
    "import os\n",
    "os.listdir()"
   ]
  },
  {
   "cell_type": "markdown",
   "id": "9b704fc1-81ac-4b41-8f6a-d591e6bde104",
   "metadata": {},
   "source": [
    "## 1.1 Easy merge: When both data sets are panel"
   ]
  },
  {
   "cell_type": "markdown",
   "id": "a339f884-cd7f-4de5-a22a-433797d60eca",
   "metadata": {},
   "source": [
    "### 1.1.1 Data set 1"
   ]
  },
  {
   "cell_type": "code",
   "execution_count": 2,
   "id": "93a47d2a-106a-423b-8d61-b1c213389a02",
   "metadata": {},
   "outputs": [
    {
     "data": {
      "text/html": [
       "<div>\n",
       "<style scoped>\n",
       "    .dataframe tbody tr th:only-of-type {\n",
       "        vertical-align: middle;\n",
       "    }\n",
       "\n",
       "    .dataframe tbody tr th {\n",
       "        vertical-align: top;\n",
       "    }\n",
       "\n",
       "    .dataframe thead th {\n",
       "        text-align: right;\n",
       "    }\n",
       "</style>\n",
       "<table border=\"1\" class=\"dataframe\">\n",
       "  <thead>\n",
       "    <tr style=\"text-align: right;\">\n",
       "      <th></th>\n",
       "      <th>country</th>\n",
       "      <th>year</th>\n",
       "      <th>FarmCredit</th>\n",
       "      <th>ICTPolicy</th>\n",
       "      <th>ProductionValue</th>\n",
       "      <th>ProcessingValue</th>\n",
       "      <th>Fertilizer</th>\n",
       "    </tr>\n",
       "  </thead>\n",
       "  <tbody>\n",
       "    <tr>\n",
       "      <th>0</th>\n",
       "      <td>BGD</td>\n",
       "      <td>2000</td>\n",
       "      <td>NaN</td>\n",
       "      <td>NaN</td>\n",
       "      <td>583661.0</td>\n",
       "      <td>NaN</td>\n",
       "      <td>158.108</td>\n",
       "    </tr>\n",
       "    <tr>\n",
       "      <th>1</th>\n",
       "      <td>BGD</td>\n",
       "      <td>2001</td>\n",
       "      <td>NaN</td>\n",
       "      <td>NaN</td>\n",
       "      <td>590372.0</td>\n",
       "      <td>NaN</td>\n",
       "      <td>174.590</td>\n",
       "    </tr>\n",
       "  </tbody>\n",
       "</table>\n",
       "</div>"
      ],
      "text/plain": [
       "  country  year  FarmCredit  ICTPolicy  ProductionValue  ProcessingValue  \\\n",
       "0     BGD  2000         NaN        NaN         583661.0              NaN   \n",
       "1     BGD  2001         NaN        NaN         590372.0              NaN   \n",
       "\n",
       "   Fertilizer  \n",
       "0     158.108  \n",
       "1     174.590  "
      ]
     },
     "execution_count": 2,
     "metadata": {},
     "output_type": "execute_result"
    }
   ],
   "source": [
    "df_agri = pd.read_csv(\n",
    "    # ADD YOUR CODE HERE: Import Agriculture_data.csv quiz folder in the data examples directory\n",
    "    )\n",
    "df_agri = df_agri.rename(columns={'code': 'country'})\n",
    "df_agri.head(2)"
   ]
  },
  {
   "cell_type": "markdown",
   "id": "add83445-24af-41a6-a03c-c1c882f500cc",
   "metadata": {},
   "source": [
    "### 1.1.2 Data set 2"
   ]
  },
  {
   "cell_type": "code",
   "execution_count": 3,
   "id": "54d25d4e-11b9-4abd-b10e-6e576c977504",
   "metadata": {},
   "outputs": [
    {
     "data": {
      "text/html": [
       "<div>\n",
       "<style scoped>\n",
       "    .dataframe tbody tr th:only-of-type {\n",
       "        vertical-align: middle;\n",
       "    }\n",
       "\n",
       "    .dataframe tbody tr th {\n",
       "        vertical-align: top;\n",
       "    }\n",
       "\n",
       "    .dataframe thead th {\n",
       "        text-align: right;\n",
       "    }\n",
       "</style>\n",
       "<table border=\"1\" class=\"dataframe\">\n",
       "  <thead>\n",
       "    <tr style=\"text-align: right;\">\n",
       "      <th></th>\n",
       "      <th>country</th>\n",
       "      <th>year</th>\n",
       "      <th>Fertility rate, total (births per woman)</th>\n",
       "      <th>GDP per capita, PPP (constant 2021 international $)</th>\n",
       "      <th>Life expectancy at birth, total (years)</th>\n",
       "      <th>Mortality rate, infant (per 1,000 live births)</th>\n",
       "      <th>Population density (people per sq. km of land area)</th>\n",
       "      <th>Population growth (annual %)</th>\n",
       "      <th>Population, total</th>\n",
       "      <th>Poverty headcount ratio at national poverty lines (% of population)</th>\n",
       "      <th>Rural population (% of total population)</th>\n",
       "      <th>Urban population (% of total population)</th>\n",
       "    </tr>\n",
       "  </thead>\n",
       "  <tbody>\n",
       "    <tr>\n",
       "      <th>0</th>\n",
       "      <td>BGD</td>\n",
       "      <td>1960</td>\n",
       "      <td>6.742</td>\n",
       "      <td>NaN</td>\n",
       "      <td>43.980</td>\n",
       "      <td>178.6</td>\n",
       "      <td>NaN</td>\n",
       "      <td>NaN</td>\n",
       "      <td>51828660.0</td>\n",
       "      <td>NaN</td>\n",
       "      <td>94.865</td>\n",
       "      <td>5.135</td>\n",
       "    </tr>\n",
       "    <tr>\n",
       "      <th>1</th>\n",
       "      <td>BGD</td>\n",
       "      <td>1961</td>\n",
       "      <td>6.780</td>\n",
       "      <td>NaN</td>\n",
       "      <td>44.887</td>\n",
       "      <td>173.3</td>\n",
       "      <td>409.544042</td>\n",
       "      <td>2.818718</td>\n",
       "      <td>53310348.0</td>\n",
       "      <td>NaN</td>\n",
       "      <td>94.722</td>\n",
       "      <td>5.278</td>\n",
       "    </tr>\n",
       "  </tbody>\n",
       "</table>\n",
       "</div>"
      ],
      "text/plain": [
       "  country  year  Fertility rate, total (births per woman)  \\\n",
       "0     BGD  1960                                     6.742   \n",
       "1     BGD  1961                                     6.780   \n",
       "\n",
       "   GDP per capita, PPP (constant 2021 international $)  \\\n",
       "0                                                NaN     \n",
       "1                                                NaN     \n",
       "\n",
       "   Life expectancy at birth, total (years)  \\\n",
       "0                                   43.980   \n",
       "1                                   44.887   \n",
       "\n",
       "   Mortality rate, infant (per 1,000 live births)  \\\n",
       "0                                           178.6   \n",
       "1                                           173.3   \n",
       "\n",
       "   Population density (people per sq. km of land area)  \\\n",
       "0                                                NaN     \n",
       "1                                         409.544042     \n",
       "\n",
       "   Population growth (annual %)  Population, total  \\\n",
       "0                           NaN         51828660.0   \n",
       "1                      2.818718         53310348.0   \n",
       "\n",
       "   Poverty headcount ratio at national poverty lines (% of population)  \\\n",
       "0                                                NaN                     \n",
       "1                                                NaN                     \n",
       "\n",
       "   Rural population (% of total population)  \\\n",
       "0                                    94.865   \n",
       "1                                    94.722   \n",
       "\n",
       "   Urban population (% of total population)  \n",
       "0                                     5.135  \n",
       "1                                     5.278  "
      ]
     },
     "execution_count": 3,
     "metadata": {},
     "output_type": "execute_result"
    }
   ],
   "source": [
    "df_con = pd.read_csv(\n",
    "    # ADD YOUR CODE HERE: Import control_var.csv quiz folder in the data examples directory\n",
    "\n",
    ")\n",
    "df_con = df_con.drop(['country'], axis = 'columns').rename(columns={'code': 'country'})\n",
    "df_con.head(2)"
   ]
  },
  {
   "cell_type": "markdown",
   "id": "d5425267-ce7e-4fb9-a29b-13e19305f4b7",
   "metadata": {},
   "source": [
    "### 1.1.M Merge"
   ]
  },
  {
   "cell_type": "markdown",
   "id": "2c2767cb-1eda-4fe9-bdf0-f6316faa7b96",
   "metadata": {},
   "source": [
    "### Merge by Index\n",
    "\n",
    "- Shown in these notebooks:\n",
    "    - https://github.com/Data-Science-Public-Policy/graspp_2025_spring/blob/main/notebooks/module_1/week_2/download_api.ipynb\n",
    "    - https://github.com/Data-Science-Public-Policy/graspp_2025_spring/blob/main/notebooks/module_1/week_3/building_python_files.ipynb"
   ]
  },
  {
   "cell_type": "code",
   "execution_count": 4,
   "id": "c951f904-6a55-4287-80ba-a298eea487c1",
   "metadata": {},
   "outputs": [
    {
     "data": {
      "text/html": [
       "<div>\n",
       "<style scoped>\n",
       "    .dataframe tbody tr th:only-of-type {\n",
       "        vertical-align: middle;\n",
       "    }\n",
       "\n",
       "    .dataframe tbody tr th {\n",
       "        vertical-align: top;\n",
       "    }\n",
       "\n",
       "    .dataframe thead th {\n",
       "        text-align: right;\n",
       "    }\n",
       "</style>\n",
       "<table border=\"1\" class=\"dataframe\">\n",
       "  <thead>\n",
       "    <tr style=\"text-align: right;\">\n",
       "      <th></th>\n",
       "      <th></th>\n",
       "      <th>FarmCredit</th>\n",
       "      <th>ICTPolicy</th>\n",
       "      <th>ProductionValue</th>\n",
       "      <th>ProcessingValue</th>\n",
       "      <th>Fertilizer</th>\n",
       "      <th>Fertility rate, total (births per woman)</th>\n",
       "      <th>GDP per capita, PPP (constant 2021 international $)</th>\n",
       "      <th>Life expectancy at birth, total (years)</th>\n",
       "      <th>Mortality rate, infant (per 1,000 live births)</th>\n",
       "      <th>Population density (people per sq. km of land area)</th>\n",
       "      <th>Population growth (annual %)</th>\n",
       "      <th>Population, total</th>\n",
       "      <th>Poverty headcount ratio at national poverty lines (% of population)</th>\n",
       "      <th>Rural population (% of total population)</th>\n",
       "      <th>Urban population (% of total population)</th>\n",
       "    </tr>\n",
       "    <tr>\n",
       "      <th>country</th>\n",
       "      <th>year</th>\n",
       "      <th></th>\n",
       "      <th></th>\n",
       "      <th></th>\n",
       "      <th></th>\n",
       "      <th></th>\n",
       "      <th></th>\n",
       "      <th></th>\n",
       "      <th></th>\n",
       "      <th></th>\n",
       "      <th></th>\n",
       "      <th></th>\n",
       "      <th></th>\n",
       "      <th></th>\n",
       "      <th></th>\n",
       "      <th></th>\n",
       "    </tr>\n",
       "  </thead>\n",
       "  <tbody>\n",
       "    <tr>\n",
       "      <th rowspan=\"2\" valign=\"top\">BGD</th>\n",
       "      <th>2000</th>\n",
       "      <td>NaN</td>\n",
       "      <td>NaN</td>\n",
       "      <td>583661.0</td>\n",
       "      <td>NaN</td>\n",
       "      <td>158.108</td>\n",
       "      <td>3.279</td>\n",
       "      <td>2712.935122</td>\n",
       "      <td>62.049</td>\n",
       "      <td>59.8</td>\n",
       "      <td>1033.604548</td>\n",
       "      <td>1.827328</td>\n",
       "      <td>134544304.0</td>\n",
       "      <td>NaN</td>\n",
       "      <td>76.410</td>\n",
       "      <td>23.590</td>\n",
       "    </tr>\n",
       "    <tr>\n",
       "      <th>2001</th>\n",
       "      <td>NaN</td>\n",
       "      <td>NaN</td>\n",
       "      <td>590372.0</td>\n",
       "      <td>NaN</td>\n",
       "      <td>174.590</td>\n",
       "      <td>3.203</td>\n",
       "      <td>2803.554720</td>\n",
       "      <td>62.836</td>\n",
       "      <td>56.6</td>\n",
       "      <td>1050.978029</td>\n",
       "      <td>1.666893</td>\n",
       "      <td>136805810.0</td>\n",
       "      <td>NaN</td>\n",
       "      <td>75.904</td>\n",
       "      <td>24.096</td>\n",
       "    </tr>\n",
       "  </tbody>\n",
       "</table>\n",
       "</div>"
      ],
      "text/plain": [
       "              FarmCredit  ICTPolicy  ProductionValue  ProcessingValue  \\\n",
       "country year                                                            \n",
       "BGD     2000         NaN        NaN         583661.0              NaN   \n",
       "        2001         NaN        NaN         590372.0              NaN   \n",
       "\n",
       "              Fertilizer  Fertility rate, total (births per woman)  \\\n",
       "country year                                                         \n",
       "BGD     2000     158.108                                     3.279   \n",
       "        2001     174.590                                     3.203   \n",
       "\n",
       "              GDP per capita, PPP (constant 2021 international $)  \\\n",
       "country year                                                        \n",
       "BGD     2000                                        2712.935122     \n",
       "        2001                                        2803.554720     \n",
       "\n",
       "              Life expectancy at birth, total (years)  \\\n",
       "country year                                            \n",
       "BGD     2000                                   62.049   \n",
       "        2001                                   62.836   \n",
       "\n",
       "              Mortality rate, infant (per 1,000 live births)  \\\n",
       "country year                                                   \n",
       "BGD     2000                                            59.8   \n",
       "        2001                                            56.6   \n",
       "\n",
       "              Population density (people per sq. km of land area)  \\\n",
       "country year                                                        \n",
       "BGD     2000                                        1033.604548     \n",
       "        2001                                        1050.978029     \n",
       "\n",
       "              Population growth (annual %)  Population, total  \\\n",
       "country year                                                    \n",
       "BGD     2000                      1.827328        134544304.0   \n",
       "        2001                      1.666893        136805810.0   \n",
       "\n",
       "              Poverty headcount ratio at national poverty lines (% of population)  \\\n",
       "country year                                                                        \n",
       "BGD     2000                                                NaN                     \n",
       "        2001                                                NaN                     \n",
       "\n",
       "              Rural population (% of total population)  \\\n",
       "country year                                             \n",
       "BGD     2000                                    76.410   \n",
       "        2001                                    75.904   \n",
       "\n",
       "              Urban population (% of total population)  \n",
       "country year                                            \n",
       "BGD     2000                                    23.590  \n",
       "        2001                                    24.096  "
      ]
     },
     "execution_count": 4,
     "metadata": {},
     "output_type": "execute_result"
    }
   ],
   "source": [
    "df_merge = pd.merge(\n",
    "    # ADD YOUR CODE HERE: DF 1,\n",
    "    # ADD YOUR CODE HERE: DF 2,\n",
    "    right_index = True,\n",
    "    left_index = True\n",
    ")\n",
    "df_merge.head(2)"
   ]
  },
  {
   "cell_type": "markdown",
   "id": "fb23eeaf-ac98-4c30-a053-ccf8a28d633d",
   "metadata": {},
   "source": [
    "### Merge by Column name(s)"
   ]
  },
  {
   "cell_type": "code",
   "execution_count": 5,
   "id": "767b9cd3-00fe-45b6-a5d9-92c11e536ce8",
   "metadata": {},
   "outputs": [
    {
     "data": {
      "text/html": [
       "<div>\n",
       "<style scoped>\n",
       "    .dataframe tbody tr th:only-of-type {\n",
       "        vertical-align: middle;\n",
       "    }\n",
       "\n",
       "    .dataframe tbody tr th {\n",
       "        vertical-align: top;\n",
       "    }\n",
       "\n",
       "    .dataframe thead th {\n",
       "        text-align: right;\n",
       "    }\n",
       "</style>\n",
       "<table border=\"1\" class=\"dataframe\">\n",
       "  <thead>\n",
       "    <tr style=\"text-align: right;\">\n",
       "      <th></th>\n",
       "      <th>country</th>\n",
       "      <th>year</th>\n",
       "      <th>FarmCredit</th>\n",
       "      <th>ICTPolicy</th>\n",
       "      <th>ProductionValue</th>\n",
       "      <th>ProcessingValue</th>\n",
       "      <th>Fertilizer</th>\n",
       "      <th>Fertility rate, total (births per woman)</th>\n",
       "      <th>GDP per capita, PPP (constant 2021 international $)</th>\n",
       "      <th>Life expectancy at birth, total (years)</th>\n",
       "      <th>Mortality rate, infant (per 1,000 live births)</th>\n",
       "      <th>Population density (people per sq. km of land area)</th>\n",
       "      <th>Population growth (annual %)</th>\n",
       "      <th>Population, total</th>\n",
       "      <th>Poverty headcount ratio at national poverty lines (% of population)</th>\n",
       "      <th>Rural population (% of total population)</th>\n",
       "      <th>Urban population (% of total population)</th>\n",
       "    </tr>\n",
       "  </thead>\n",
       "  <tbody>\n",
       "    <tr>\n",
       "      <th>0</th>\n",
       "      <td>BGD</td>\n",
       "      <td>2000</td>\n",
       "      <td>NaN</td>\n",
       "      <td>NaN</td>\n",
       "      <td>583661.0</td>\n",
       "      <td>NaN</td>\n",
       "      <td>158.108</td>\n",
       "      <td>3.279</td>\n",
       "      <td>2712.935122</td>\n",
       "      <td>62.049</td>\n",
       "      <td>59.8</td>\n",
       "      <td>1033.604548</td>\n",
       "      <td>1.827328</td>\n",
       "      <td>134544304.0</td>\n",
       "      <td>NaN</td>\n",
       "      <td>76.410</td>\n",
       "      <td>23.590</td>\n",
       "    </tr>\n",
       "    <tr>\n",
       "      <th>1</th>\n",
       "      <td>BGD</td>\n",
       "      <td>2001</td>\n",
       "      <td>NaN</td>\n",
       "      <td>NaN</td>\n",
       "      <td>590372.0</td>\n",
       "      <td>NaN</td>\n",
       "      <td>174.590</td>\n",
       "      <td>3.203</td>\n",
       "      <td>2803.554720</td>\n",
       "      <td>62.836</td>\n",
       "      <td>56.6</td>\n",
       "      <td>1050.978029</td>\n",
       "      <td>1.666893</td>\n",
       "      <td>136805810.0</td>\n",
       "      <td>NaN</td>\n",
       "      <td>75.904</td>\n",
       "      <td>24.096</td>\n",
       "    </tr>\n",
       "  </tbody>\n",
       "</table>\n",
       "</div>"
      ],
      "text/plain": [
       "  country  year  FarmCredit  ICTPolicy  ProductionValue  ProcessingValue  \\\n",
       "0     BGD  2000         NaN        NaN         583661.0              NaN   \n",
       "1     BGD  2001         NaN        NaN         590372.0              NaN   \n",
       "\n",
       "   Fertilizer  Fertility rate, total (births per woman)  \\\n",
       "0     158.108                                     3.279   \n",
       "1     174.590                                     3.203   \n",
       "\n",
       "   GDP per capita, PPP (constant 2021 international $)  \\\n",
       "0                                        2712.935122     \n",
       "1                                        2803.554720     \n",
       "\n",
       "   Life expectancy at birth, total (years)  \\\n",
       "0                                   62.049   \n",
       "1                                   62.836   \n",
       "\n",
       "   Mortality rate, infant (per 1,000 live births)  \\\n",
       "0                                            59.8   \n",
       "1                                            56.6   \n",
       "\n",
       "   Population density (people per sq. km of land area)  \\\n",
       "0                                        1033.604548     \n",
       "1                                        1050.978029     \n",
       "\n",
       "   Population growth (annual %)  Population, total  \\\n",
       "0                      1.827328        134544304.0   \n",
       "1                      1.666893        136805810.0   \n",
       "\n",
       "   Poverty headcount ratio at national poverty lines (% of population)  \\\n",
       "0                                                NaN                     \n",
       "1                                                NaN                     \n",
       "\n",
       "   Rural population (% of total population)  \\\n",
       "0                                    76.410   \n",
       "1                                    75.904   \n",
       "\n",
       "   Urban population (% of total population)  \n",
       "0                                    23.590  \n",
       "1                                    24.096  "
      ]
     },
     "execution_count": 5,
     "metadata": {},
     "output_type": "execute_result"
    }
   ],
   "source": [
    "df_merge = pd.merge(\n",
    "    df_agri,\n",
    "    df_con,\n",
    "    on = [\n",
    "        # ADD YOUR CODE HERE\n",
    "    ]\n",
    ")\n",
    "df_merge.head(2)"
   ]
  },
  {
   "cell_type": "markdown",
   "id": "955d9e92-28d9-452d-bc99-2098d81b802f",
   "metadata": {},
   "source": [
    "# 2. Descriptive Stats"
   ]
  },
  {
   "cell_type": "markdown",
   "id": "b9036479-022c-46ce-ac1d-f327b16233fa",
   "metadata": {},
   "source": [
    "## 2.A Write function to output basic statistics of the data frame\n",
    "\n",
    "- Similar example shown in B.4 of the following notebook\n",
    "    - https://github.com/Data-Science-Public-Policy/graspp_2025_spring/blob/main/notebooks/module_1/week_1/notebook_basics.ipynb\n"
   ]
  },
  {
   "cell_type": "code",
   "execution_count": 6,
   "id": "3ec2ae19-5fbf-4b4f-b256-04ef5ded0a12",
   "metadata": {},
   "outputs": [],
   "source": [
    "def basic_stats(df):\n",
    "    countries = # ADD YOUR CODE HERE: List unique countries\n",
    "    n_countries = # ADD YOUR CODE HERE: Count countries\n",
    "    time_series = f\"{df.year.min()} ~ {df.year.max()}\"\n",
    "    data_summary = df.drop(['country','year'], axis=1).notna().sum()\n",
    "    col_type = #ADD YOUR CODE HERE: data types\n",
    "    \n",
    "    return {\n",
    "        'countries (first 5)': countries[:5],\n",
    "        'country_count': n_countries,\n",
    "        'time_series': time_series,\n",
    "        'observations_bycolumn': data_summary,\n",
    "        'col_type' : col_type\n",
    "    }"
   ]
  },
  {
   "cell_type": "markdown",
   "id": "0260e42a-8952-4151-b2cf-c20db9abb378",
   "metadata": {},
   "source": [
    "## 2.1 Data 1"
   ]
  },
  {
   "cell_type": "code",
   "execution_count": 7,
   "id": "ad4619b7-82c8-4b40-9198-0360cac19b4e",
   "metadata": {},
   "outputs": [
    {
     "data": {
      "text/plain": [
       "{'countries (first 5)': ['BGD', 'BRN', 'BTN', 'IDN', 'IND'],\n",
       " 'country_count': 16,\n",
       " 'time_series': '2000 ~ 2023',\n",
       " 'observations_bycolumn': FarmCredit          68\n",
       " ICTPolicy           34\n",
       " ProductionValue     99\n",
       " ProcessingValue    111\n",
       " Fertilizer          64\n",
       " dtype: int64,\n",
       " 'col_type': country             object\n",
       " year                 int64\n",
       " FarmCredit         float64\n",
       " ICTPolicy          float64\n",
       " ProductionValue    float64\n",
       " ProcessingValue    float64\n",
       " Fertilizer         float64\n",
       " dtype: object}"
      ]
     },
     "execution_count": 7,
     "metadata": {},
     "output_type": "execute_result"
    }
   ],
   "source": [
    "basic_stats(\n",
    "    df_agri\n",
    ")"
   ]
  },
  {
   "cell_type": "markdown",
   "id": "727818c6-c873-48e9-a645-0b6acdd879fa",
   "metadata": {},
   "source": [
    "## 2.2 Data 2"
   ]
  },
  {
   "cell_type": "code",
   "execution_count": 8,
   "id": "8900c82f-5829-49e0-bc83-bfa6f7e97e9d",
   "metadata": {},
   "outputs": [
    {
     "data": {
      "text/plain": [
       "{'countries (first 5)': ['BGD', 'BTN', 'BRN', 'KHM', 'IND'],\n",
       " 'country_count': 16,\n",
       " 'time_series': '1960 ~ 2023',\n",
       " 'observations_bycolumn': Fertility rate, total (births per woman)                               1024\n",
       " GDP per capita, PPP (constant 2021 international $)                     543\n",
       " Life expectancy at birth, total (years)                                1024\n",
       " Mortality rate, infant (per 1,000 live births)                          970\n",
       " Population density (people per sq. km of land area)                     992\n",
       " Population growth (annual %)                                           1008\n",
       " Population, total                                                      1024\n",
       " Poverty headcount ratio at national poverty lines (% of population)      89\n",
       " Rural population (% of total population)                               1024\n",
       " Urban population (% of total population)                               1024\n",
       " dtype: int64,\n",
       " 'col_type': country                                                                 object\n",
       " year                                                                     int64\n",
       " Fertility rate, total (births per woman)                               float64\n",
       " GDP per capita, PPP (constant 2021 international $)                    float64\n",
       " Life expectancy at birth, total (years)                                float64\n",
       " Mortality rate, infant (per 1,000 live births)                         float64\n",
       " Population density (people per sq. km of land area)                    float64\n",
       " Population growth (annual %)                                           float64\n",
       " Population, total                                                      float64\n",
       " Poverty headcount ratio at national poverty lines (% of population)    float64\n",
       " Rural population (% of total population)                               float64\n",
       " Urban population (% of total population)                               float64\n",
       " dtype: object}"
      ]
     },
     "execution_count": 8,
     "metadata": {},
     "output_type": "execute_result"
    }
   ],
   "source": [
    "basic_stats(\n",
    "    df_con\n",
    ")"
   ]
  },
  {
   "cell_type": "markdown",
   "id": "a4414c8b-8c6b-47ee-92f2-bab89d762e92",
   "metadata": {},
   "source": [
    "# 3. Viz"
   ]
  },
  {
   "cell_type": "code",
   "execution_count": 9,
   "id": "ca17a77b-9843-4f32-aa43-738ce3e73c93",
   "metadata": {},
   "outputs": [
    {
     "data": {
      "text/html": [
       "<div>\n",
       "<style scoped>\n",
       "    .dataframe tbody tr th:only-of-type {\n",
       "        vertical-align: middle;\n",
       "    }\n",
       "\n",
       "    .dataframe tbody tr th {\n",
       "        vertical-align: top;\n",
       "    }\n",
       "\n",
       "    .dataframe thead th {\n",
       "        text-align: right;\n",
       "    }\n",
       "</style>\n",
       "<table border=\"1\" class=\"dataframe\">\n",
       "  <thead>\n",
       "    <tr style=\"text-align: right;\">\n",
       "      <th></th>\n",
       "      <th>country</th>\n",
       "      <th>year</th>\n",
       "      <th>FarmCredit</th>\n",
       "      <th>ict</th>\n",
       "      <th>ProductionValue</th>\n",
       "      <th>ProcessingValue</th>\n",
       "      <th>Fertilizer</th>\n",
       "      <th>Fertility rate, total (births per woman)</th>\n",
       "      <th>gdp</th>\n",
       "      <th>Life expectancy at birth, total (years)</th>\n",
       "      <th>Mortality rate, infant (per 1,000 live births)</th>\n",
       "      <th>Population density (people per sq. km of land area)</th>\n",
       "      <th>Population growth (annual %)</th>\n",
       "      <th>Population, total</th>\n",
       "      <th>Poverty headcount ratio at national poverty lines (% of population)</th>\n",
       "      <th>Rural population (% of total population)</th>\n",
       "      <th>Urban population (% of total population)</th>\n",
       "    </tr>\n",
       "  </thead>\n",
       "  <tbody>\n",
       "    <tr>\n",
       "      <th>0</th>\n",
       "      <td>BGD</td>\n",
       "      <td>2000</td>\n",
       "      <td>NaN</td>\n",
       "      <td>NaN</td>\n",
       "      <td>583661.0</td>\n",
       "      <td>NaN</td>\n",
       "      <td>158.108</td>\n",
       "      <td>3.279</td>\n",
       "      <td>2712.935122</td>\n",
       "      <td>62.049</td>\n",
       "      <td>59.8</td>\n",
       "      <td>1033.604548</td>\n",
       "      <td>1.827328</td>\n",
       "      <td>134544304.0</td>\n",
       "      <td>NaN</td>\n",
       "      <td>76.410</td>\n",
       "      <td>23.590</td>\n",
       "    </tr>\n",
       "    <tr>\n",
       "      <th>1</th>\n",
       "      <td>BGD</td>\n",
       "      <td>2001</td>\n",
       "      <td>NaN</td>\n",
       "      <td>NaN</td>\n",
       "      <td>590372.0</td>\n",
       "      <td>NaN</td>\n",
       "      <td>174.590</td>\n",
       "      <td>3.203</td>\n",
       "      <td>2803.554720</td>\n",
       "      <td>62.836</td>\n",
       "      <td>56.6</td>\n",
       "      <td>1050.978029</td>\n",
       "      <td>1.666893</td>\n",
       "      <td>136805810.0</td>\n",
       "      <td>NaN</td>\n",
       "      <td>75.904</td>\n",
       "      <td>24.096</td>\n",
       "    </tr>\n",
       "  </tbody>\n",
       "</table>\n",
       "</div>"
      ],
      "text/plain": [
       "  country  year  FarmCredit  ict  ProductionValue  ProcessingValue  \\\n",
       "0     BGD  2000         NaN  NaN         583661.0              NaN   \n",
       "1     BGD  2001         NaN  NaN         590372.0              NaN   \n",
       "\n",
       "   Fertilizer  Fertility rate, total (births per woman)          gdp  \\\n",
       "0     158.108                                     3.279  2712.935122   \n",
       "1     174.590                                     3.203  2803.554720   \n",
       "\n",
       "   Life expectancy at birth, total (years)  \\\n",
       "0                                   62.049   \n",
       "1                                   62.836   \n",
       "\n",
       "   Mortality rate, infant (per 1,000 live births)  \\\n",
       "0                                            59.8   \n",
       "1                                            56.6   \n",
       "\n",
       "   Population density (people per sq. km of land area)  \\\n",
       "0                                        1033.604548     \n",
       "1                                        1050.978029     \n",
       "\n",
       "   Population growth (annual %)  Population, total  \\\n",
       "0                      1.827328        134544304.0   \n",
       "1                      1.666893        136805810.0   \n",
       "\n",
       "   Poverty headcount ratio at national poverty lines (% of population)  \\\n",
       "0                                                NaN                     \n",
       "1                                                NaN                     \n",
       "\n",
       "   Rural population (% of total population)  \\\n",
       "0                                    76.410   \n",
       "1                                    75.904   \n",
       "\n",
       "   Urban population (% of total population)  \n",
       "0                                    23.590  \n",
       "1                                    24.096  "
      ]
     },
     "execution_count": 9,
     "metadata": {},
     "output_type": "execute_result"
    }
   ],
   "source": [
    "df_merge = pd.merge(\n",
    "    df_agri,\n",
    "    df_con,\n",
    "    on = ['country','year']\n",
    ")\n",
    "df_merge = df_merge.rename(columns = {\"GDP per capita, PPP (constant 2021 international $)\": 'gdp', \"ICTPolicy\" : 'ict'})\n",
    "df_merge.head(2)"
   ]
  },
  {
   "cell_type": "markdown",
   "id": "9d7cd3b2-026f-4c44-8a1c-f3d1349f6a36",
   "metadata": {},
   "source": [
    "## 3.1 Basic line plot with country BGD and IDN\n",
    "\n",
    "- lineplots shown in the following notebook:\n",
    "    - https://github.com/Data-Science-Public-Policy/graspp_2025_spring/blob/main/notebooks/module_2/week_4/visualization_basics.ipynb\n",
    "    - `sns.scatterplot` has the exact same arguments as `sns.lineplot`"
   ]
  },
  {
   "cell_type": "code",
   "execution_count": 10,
   "id": "523a8cdb-4e6a-4fe8-a8dc-b71821540c4f",
   "metadata": {},
   "outputs": [
    {
     "data": {
      "text/plain": [
       "<Axes: xlabel='year', ylabel='gdp'>"
      ]
     },
     "execution_count": 10,
     "metadata": {},
     "output_type": "execute_result"
    },
    {
     "data": {
      "image/png": "[encoded data removed]",
      "text/plain": [
       "<Figure size 640x480 with 1 Axes>"
      ]
     },
     "metadata": {},
     "output_type": "display_data"
    }
   ],
   "source": [
    "import seaborn as sns\n",
    "sns.lineplot(\n",
    "        data = #ADD YOUR CODE HERE: Must reset index and query\n",
    "        x = #ADD YOUR CODE HERE\n",
    "        y = #ADD YOUR CODE HERE\n",
    "        hue = 'country'\n",
    "    )"
   ]
  },
  {
   "cell_type": "markdown",
   "id": "da163b66-f517-49b0-bab7-95575640ba94",
   "metadata": {},
   "source": [
    "## 3.2 Scatter\n",
    "\n",
    "- `sns.scatterplot` has the exact same arguments as `sns.lineplot`"
   ]
  },
  {
   "cell_type": "code",
   "execution_count": 11,
   "id": "20490cfe-7f93-41aa-925a-8cad7fb5e584",
   "metadata": {},
   "outputs": [
    {
     "data": {
      "text/plain": [
       "<Axes: xlabel='ict', ylabel='gdp'>"
      ]
     },
     "execution_count": 11,
     "metadata": {},
     "output_type": "execute_result"
    },
    {
     "data": {
      "image/png": "[encoded data removed]",
      "text/plain": [
       "<Figure size 640x480 with 1 Axes>"
      ]
     },
     "metadata": {},
     "output_type": "display_data"
    }
   ],
   "source": [
    "sns.scatterplot(\n",
    "        data = df_merge,\n",
    "        x = #ADD YOUR CODE HERE\n",
    "        y = #ADD YOUR CODE HERE\n",
    "    )"
   ]
  },
  {
   "cell_type": "markdown",
   "id": "946294c7-bd82-4a08-98c5-b0f2adfc00b0",
   "metadata": {},
   "source": [
    "## 3.3 Scatter with function"
   ]
  },
  {
   "cell_type": "code",
   "execution_count": 12,
   "id": "19c064c0-7226-44b2-aac6-6f1ba248ddb2",
   "metadata": {},
   "outputs": [
    {
     "data": {
      "image/png": "[encoded data removed]",
      "text/plain": [
       "<Figure size 640x480 with 1 Axes>"
      ]
     },
     "metadata": {},
     "output_type": "display_data"
    }
   ],
   "source": [
    "import matplotlib.pyplot as plt\n",
    "import seaborn as sns\n",
    "\n",
    "def scatter(df, col_x, col_y, title):\n",
    "    #ADD YOUR CODE HERE\n",
    "    plt.title(title, size = 20)\n",
    "\n",
    "scatter(\n",
    "    df = df_merge,\n",
    "    col_x = 'ict',\n",
    "    col_y = 'gdp',\n",
    "    title = 'GDP vs. ICT'\n",
    "    \n",
    ")"
   ]
  },
  {
   "cell_type": "markdown",
   "id": "76be3f5d-4504-4e0b-9c76-8a09c8fa2748",
   "metadata": {},
   "source": [
    "# 4. Regression\n",
    "\n",
    "## 4.1 Create new df with only 2023, cols (gdp, ict) and set index country year"
   ]
  },
  {
   "cell_type": "code",
   "execution_count": 13,
   "id": "9f655080-c1a5-4cb3-9848-c8a3122317e6",
   "metadata": {},
   "outputs": [
    {
     "data": {
      "text/html": [
       "<div>\n",
       "<style scoped>\n",
       "    .dataframe tbody tr th:only-of-type {\n",
       "        vertical-align: middle;\n",
       "    }\n",
       "\n",
       "    .dataframe tbody tr th {\n",
       "        vertical-align: top;\n",
       "    }\n",
       "\n",
       "    .dataframe thead th {\n",
       "        text-align: right;\n",
       "    }\n",
       "</style>\n",
       "<table border=\"1\" class=\"dataframe\">\n",
       "  <thead>\n",
       "    <tr style=\"text-align: right;\">\n",
       "      <th></th>\n",
       "      <th></th>\n",
       "      <th>gdp</th>\n",
       "      <th>ict</th>\n",
       "    </tr>\n",
       "    <tr>\n",
       "      <th>country</th>\n",
       "      <th>year</th>\n",
       "      <th></th>\n",
       "      <th></th>\n",
       "    </tr>\n",
       "  </thead>\n",
       "  <tbody>\n",
       "    <tr>\n",
       "      <th>BGD</th>\n",
       "      <th>2023</th>\n",
       "      <td>8242.397990</td>\n",
       "      <td>6.79012</td>\n",
       "    </tr>\n",
       "    <tr>\n",
       "      <th>BRN</th>\n",
       "      <th>2023</th>\n",
       "      <td>76828.399831</td>\n",
       "      <td>12.65430</td>\n",
       "    </tr>\n",
       "  </tbody>\n",
       "</table>\n",
       "</div>"
      ],
      "text/plain": [
       "                       gdp       ict\n",
       "country year                        \n",
       "BGD     2023   8242.397990   6.79012\n",
       "BRN     2023  76828.399831  12.65430"
      ]
     },
     "execution_count": 13,
     "metadata": {},
     "output_type": "execute_result"
    }
   ],
   "source": [
    "df_feat = df_merge.set_index(['country','year']).query(\"year == 2023\")[['gdp', 'ict']]\n",
    "df_feat.head(2)"
   ]
  },
  {
   "cell_type": "markdown",
   "id": "759978a2-5aa8-4840-87ab-38a5e2367327",
   "metadata": {},
   "source": [
    "## 4.2 Transform"
   ]
  },
  {
   "cell_type": "code",
   "execution_count": 15,
   "id": "913f4dca-b453-4946-be4d-7d5fa74900ba",
   "metadata": {},
   "outputs": [
    {
     "data": {
      "text/html": [
       "<div>\n",
       "<style scoped>\n",
       "    .dataframe tbody tr th:only-of-type {\n",
       "        vertical-align: middle;\n",
       "    }\n",
       "\n",
       "    .dataframe tbody tr th {\n",
       "        vertical-align: top;\n",
       "    }\n",
       "\n",
       "    .dataframe thead th {\n",
       "        text-align: right;\n",
       "    }\n",
       "</style>\n",
       "<table border=\"1\" class=\"dataframe\">\n",
       "  <thead>\n",
       "    <tr style=\"text-align: right;\">\n",
       "      <th></th>\n",
       "      <th></th>\n",
       "      <th>gdp</th>\n",
       "      <th>ict</th>\n",
       "      <th>gdp_log</th>\n",
       "      <th>ict_log</th>\n",
       "    </tr>\n",
       "    <tr>\n",
       "      <th>country</th>\n",
       "      <th>year</th>\n",
       "      <th></th>\n",
       "      <th></th>\n",
       "      <th></th>\n",
       "      <th></th>\n",
       "    </tr>\n",
       "  </thead>\n",
       "  <tbody>\n",
       "    <tr>\n",
       "      <th>BGD</th>\n",
       "      <th>2023</th>\n",
       "      <td>8242.397990</td>\n",
       "      <td>6.79012</td>\n",
       "      <td>9.017047</td>\n",
       "      <td>1.915469</td>\n",
       "    </tr>\n",
       "    <tr>\n",
       "      <th>BRN</th>\n",
       "      <th>2023</th>\n",
       "      <td>76828.399831</td>\n",
       "      <td>12.65430</td>\n",
       "      <td>11.249330</td>\n",
       "      <td>2.537997</td>\n",
       "    </tr>\n",
       "  </tbody>\n",
       "</table>\n",
       "</div>"
      ],
      "text/plain": [
       "                       gdp       ict    gdp_log   ict_log\n",
       "country year                                             \n",
       "BGD     2023   8242.397990   6.79012   9.017047  1.915469\n",
       "BRN     2023  76828.399831  12.65430  11.249330  2.537997"
      ]
     },
     "execution_count": 15,
     "metadata": {},
     "output_type": "execute_result"
    }
   ],
   "source": [
    "import numpy as np\n",
    "df_feat['gdp_log'] = ##ADD YOUR CODE HERE\n",
    "df_feat['ict_log'] = #ADD YOUR CODE HERE\n",
    "df_feat.head(2)"
   ]
  },
  {
   "cell_type": "markdown",
   "id": "f2289aca-4bfe-4027-a505-3eaf69d76cd5",
   "metadata": {},
   "source": [
    "## 4.3 Regression"
   ]
  },
  {
   "cell_type": "code",
   "execution_count": 16,
   "id": "8490b809-1465-4073-81dd-8dca3a2c441a",
   "metadata": {},
   "outputs": [
    {
     "data": {
      "text/html": [
       "<div>\n",
       "<style scoped>\n",
       "    .dataframe tbody tr th:only-of-type {\n",
       "        vertical-align: middle;\n",
       "    }\n",
       "\n",
       "    .dataframe tbody tr th {\n",
       "        vertical-align: top;\n",
       "    }\n",
       "\n",
       "    .dataframe thead th {\n",
       "        text-align: right;\n",
       "    }\n",
       "</style>\n",
       "<table border=\"1\" class=\"dataframe\">\n",
       "  <thead>\n",
       "    <tr style=\"text-align: right;\">\n",
       "      <th></th>\n",
       "      <th></th>\n",
       "      <th>gdp_log</th>\n",
       "      <th>ict_log</th>\n",
       "    </tr>\n",
       "    <tr>\n",
       "      <th>country</th>\n",
       "      <th>year</th>\n",
       "      <th></th>\n",
       "      <th></th>\n",
       "    </tr>\n",
       "  </thead>\n",
       "  <tbody>\n",
       "    <tr>\n",
       "      <th>BGD</th>\n",
       "      <th>2023</th>\n",
       "      <td>9.017047</td>\n",
       "      <td>1.915469</td>\n",
       "    </tr>\n",
       "    <tr>\n",
       "      <th>BRN</th>\n",
       "      <th>2023</th>\n",
       "      <td>11.249330</td>\n",
       "      <td>2.537997</td>\n",
       "    </tr>\n",
       "  </tbody>\n",
       "</table>\n",
       "</div>"
      ],
      "text/plain": [
       "                gdp_log   ict_log\n",
       "country year                     \n",
       "BGD     2023   9.017047  1.915469\n",
       "BRN     2023  11.249330  2.537997"
      ]
     },
     "execution_count": 16,
     "metadata": {},
     "output_type": "execute_result"
    }
   ],
   "source": [
    "data = df_feat[['gdp_log', 'ict_log']].dropna()\n",
    "data.head(2)"
   ]
  },
  {
   "cell_type": "markdown",
   "id": "4d26f5af-c20c-4003-b798-7264f52bd23d",
   "metadata": {},
   "source": [
    "### 4.3.1 Histograms"
   ]
  },
  {
   "cell_type": "code",
   "execution_count": 17,
   "id": "5bbb0c7d-0d89-477e-8b9e-ba40d31c60d1",
   "metadata": {},
   "outputs": [
    {
     "data": {
      "text/plain": [
       "<Axes: xlabel='gdp_log', ylabel='Count'>"
      ]
     },
     "execution_count": 17,
     "metadata": {},
     "output_type": "execute_result"
    },
    {
     "data": {
      "image/png": "[encoded data removed]",
      "text/plain": [
       "<Figure size 640x480 with 1 Axes>"
      ]
     },
     "metadata": {},
     "output_type": "display_data"
    }
   ],
   "source": [
    "sns.histplot(\n",
    "    data = data,\n",
    "    x = # ADD YOUR CODE HERE\n",
    "    bins = 4\n",
    ")"
   ]
  },
  {
   "cell_type": "markdown",
   "id": "c4142f63-bae1-4081-a069-393e35705ed4",
   "metadata": {},
   "source": [
    "### 4.3.2 Regression"
   ]
  },
  {
   "cell_type": "code",
   "execution_count": 18,
   "id": "1ec91cf7-2020-4429-881b-be4fcde53b77",
   "metadata": {},
   "outputs": [
    {
     "data": {
      "text/html": [
       "<div>\n",
       "<style scoped>\n",
       "    .dataframe tbody tr th:only-of-type {\n",
       "        vertical-align: middle;\n",
       "    }\n",
       "\n",
       "    .dataframe tbody tr th {\n",
       "        vertical-align: top;\n",
       "    }\n",
       "\n",
       "    .dataframe thead th {\n",
       "        text-align: right;\n",
       "    }\n",
       "</style>\n",
       "<table border=\"1\" class=\"dataframe\">\n",
       "  <thead>\n",
       "    <tr style=\"text-align: right;\">\n",
       "      <th></th>\n",
       "      <th></th>\n",
       "      <th>gdp_log</th>\n",
       "      <th>ict_log</th>\n",
       "    </tr>\n",
       "    <tr>\n",
       "      <th>country</th>\n",
       "      <th>year</th>\n",
       "      <th></th>\n",
       "      <th></th>\n",
       "    </tr>\n",
       "  </thead>\n",
       "  <tbody>\n",
       "    <tr>\n",
       "      <th>BGD</th>\n",
       "      <th>2023</th>\n",
       "      <td>9.017047</td>\n",
       "      <td>1.915469</td>\n",
       "    </tr>\n",
       "    <tr>\n",
       "      <th>BRN</th>\n",
       "      <th>2023</th>\n",
       "      <td>11.249330</td>\n",
       "      <td>2.537997</td>\n",
       "    </tr>\n",
       "  </tbody>\n",
       "</table>\n",
       "</div>"
      ],
      "text/plain": [
       "                gdp_log   ict_log\n",
       "country year                     \n",
       "BGD     2023   9.017047  1.915469\n",
       "BRN     2023  11.249330  2.537997"
      ]
     },
     "execution_count": 18,
     "metadata": {},
     "output_type": "execute_result"
    }
   ],
   "source": [
    "data = df_feat[['gdp_log', 'ict_log']].dropna()\n",
    "data.head(2)"
   ]
  },
  {
   "cell_type": "code",
   "execution_count": 19,
   "id": "794a6cda-b19a-44fd-b3f0-6b1229076c2e",
   "metadata": {},
   "outputs": [
    {
     "name": "stderr",
     "output_type": "stream",
     "text": [
      "/Users/corybaird/Desktop/graspp_2025_spring/.venv/lib/python3.12/site-packages/scipy/stats/_axis_nan_policy.py:430: UserWarning: `kurtosistest` p-value may be inaccurate with fewer than 20 observations; only n=15 observations were given.\n",
      "  return hypotest_fun_in(*args, **kwds)\n"
     ]
    },
    {
     "data": {
      "text/html": [
       "<table class=\"simpletable\">\n",
       "<caption>OLS Regression Results</caption>\n",
       "<tr>\n",
       "  <th>Dep. Variable:</th>         <td>gdp_log</td>     <th>  R-squared (uncentered):</th>      <td>   0.973</td>\n",
       "</tr>\n",
       "<tr>\n",
       "  <th>Model:</th>                   <td>OLS</td>       <th>  Adj. R-squared (uncentered):</th> <td>   0.971</td>\n",
       "</tr>\n",
       "<tr>\n",
       "  <th>Method:</th>             <td>Least Squares</td>  <th>  F-statistic:       </th>          <td>   495.9</td>\n",
       "</tr>\n",
       "<tr>\n",
       "  <th>Date:</th>             <td>Sun, 25 May 2025</td> <th>  Prob (F-statistic):</th>          <td>2.49e-12</td>\n",
       "</tr>\n",
       "<tr>\n",
       "  <th>Time:</th>                 <td>17:05:45</td>     <th>  Log-Likelihood:    </th>          <td> -28.187</td>\n",
       "</tr>\n",
       "<tr>\n",
       "  <th>No. Observations:</th>      <td>    15</td>      <th>  AIC:               </th>          <td>   58.37</td>\n",
       "</tr>\n",
       "<tr>\n",
       "  <th>Df Residuals:</th>          <td>    14</td>      <th>  BIC:               </th>          <td>   59.08</td>\n",
       "</tr>\n",
       "<tr>\n",
       "  <th>Df Model:</th>              <td>     1</td>      <th>                     </th>              <td> </td>   \n",
       "</tr>\n",
       "<tr>\n",
       "  <th>Covariance Type:</th>      <td>nonrobust</td>    <th>                     </th>              <td> </td>   \n",
       "</tr>\n",
       "</table>\n",
       "<table class=\"simpletable\">\n",
       "<tr>\n",
       "     <td></td>        <th>coef</th>     <th>std err</th>      <th>t</th>      <th>P>|t|</th>  <th>[0.025</th>    <th>0.975]</th>  \n",
       "</tr>\n",
       "<tr>\n",
       "  <th>ict_log</th> <td>    3.7098</td> <td>    0.167</td> <td>   22.270</td> <td> 0.000</td> <td>    3.353</td> <td>    4.067</td>\n",
       "</tr>\n",
       "</table>\n",
       "<table class=\"simpletable\">\n",
       "<tr>\n",
       "  <th>Omnibus:</th>       <td> 0.827</td> <th>  Durbin-Watson:     </th> <td>   2.073</td>\n",
       "</tr>\n",
       "<tr>\n",
       "  <th>Prob(Omnibus):</th> <td> 0.661</td> <th>  Jarque-Bera (JB):  </th> <td>   0.724</td>\n",
       "</tr>\n",
       "<tr>\n",
       "  <th>Skew:</th>          <td> 0.452</td> <th>  Prob(JB):          </th> <td>   0.696</td>\n",
       "</tr>\n",
       "<tr>\n",
       "  <th>Kurtosis:</th>      <td> 2.417</td> <th>  Cond. No.          </th> <td>    1.00</td>\n",
       "</tr>\n",
       "</table><br/><br/>Notes:<br/>[1] R² is computed without centering (uncentered) since the model does not contain a constant.<br/>[2] Standard Errors assume that the covariance matrix of the errors is correctly specified."
      ],
      "text/latex": [
       "\\begin{center}\n",
       "\\begin{tabular}{lclc}\n",
       "\\toprule\n",
       "\\textbf{Dep. Variable:}    &     gdp\\_log     & \\textbf{  R-squared (uncentered):}      &     0.973   \\\\\n",
       "\\textbf{Model:}            &       OLS        & \\textbf{  Adj. R-squared (uncentered):} &     0.971   \\\\\n",
       "\\textbf{Method:}           &  Least Squares   & \\textbf{  F-statistic:       }          &     495.9   \\\\\n",
       "\\textbf{Date:}             & Sun, 25 May 2025 & \\textbf{  Prob (F-statistic):}          &  2.49e-12   \\\\\n",
       "\\textbf{Time:}             &     17:05:45     & \\textbf{  Log-Likelihood:    }          &   -28.187   \\\\\n",
       "\\textbf{No. Observations:} &          15      & \\textbf{  AIC:               }          &     58.37   \\\\\n",
       "\\textbf{Df Residuals:}     &          14      & \\textbf{  BIC:               }          &     59.08   \\\\\n",
       "\\textbf{Df Model:}         &           1      & \\textbf{                     }          &             \\\\\n",
       "\\textbf{Covariance Type:}  &    nonrobust     & \\textbf{                     }          &             \\\\\n",
       "\\bottomrule\n",
       "\\end{tabular}\n",
       "\\begin{tabular}{lcccccc}\n",
       "                  & \\textbf{coef} & \\textbf{std err} & \\textbf{t} & \\textbf{P$> |$t$|$} & \\textbf{[0.025} & \\textbf{0.975]}  \\\\\n",
       "\\midrule\n",
       "\\textbf{ict\\_log} &       3.7098  &        0.167     &    22.270  &         0.000        &        3.353    &        4.067     \\\\\n",
       "\\bottomrule\n",
       "\\end{tabular}\n",
       "\\begin{tabular}{lclc}\n",
       "\\textbf{Omnibus:}       &  0.827 & \\textbf{  Durbin-Watson:     } &    2.073  \\\\\n",
       "\\textbf{Prob(Omnibus):} &  0.661 & \\textbf{  Jarque-Bera (JB):  } &    0.724  \\\\\n",
       "\\textbf{Skew:}          &  0.452 & \\textbf{  Prob(JB):          } &    0.696  \\\\\n",
       "\\textbf{Kurtosis:}      &  2.417 & \\textbf{  Cond. No.          } &     1.00  \\\\\n",
       "\\bottomrule\n",
       "\\end{tabular}\n",
       "%\\caption{OLS Regression Results}\n",
       "\\end{center}\n",
       "\n",
       "Notes: \\newline\n",
       " [1] R² is computed without centering (uncentered) since the model does not contain a constant. \\newline\n",
       " [2] Standard Errors assume that the covariance matrix of the errors is correctly specified."
      ],
      "text/plain": [
       "<class 'statsmodels.iolib.summary.Summary'>\n",
       "\"\"\"\n",
       "                                 OLS Regression Results                                \n",
       "=======================================================================================\n",
       "Dep. Variable:                gdp_log   R-squared (uncentered):                   0.973\n",
       "Model:                            OLS   Adj. R-squared (uncentered):              0.971\n",
       "Method:                 Least Squares   F-statistic:                              495.9\n",
       "Date:                Sun, 25 May 2025   Prob (F-statistic):                    2.49e-12\n",
       "Time:                        17:05:45   Log-Likelihood:                         -28.187\n",
       "No. Observations:                  15   AIC:                                      58.37\n",
       "Df Residuals:                      14   BIC:                                      59.08\n",
       "Df Model:                           1                                                  \n",
       "Covariance Type:            nonrobust                                                  \n",
       "==============================================================================\n",
       "                 coef    std err          t      P>|t|      [0.025      0.975]\n",
       "------------------------------------------------------------------------------\n",
       "ict_log        3.7098      0.167     22.270      0.000       3.353       4.067\n",
       "==============================================================================\n",
       "Omnibus:                        0.827   Durbin-Watson:                   2.073\n",
       "Prob(Omnibus):                  0.661   Jarque-Bera (JB):                0.724\n",
       "Skew:                           0.452   Prob(JB):                        0.696\n",
       "Kurtosis:                       2.417   Cond. No.                         1.00\n",
       "==============================================================================\n",
       "\n",
       "Notes:\n",
       "[1] R² is computed without centering (uncentered) since the model does not contain a constant.\n",
       "[2] Standard Errors assume that the covariance matrix of the errors is correctly specified.\n",
       "\"\"\""
      ]
     },
     "execution_count": 19,
     "metadata": {},
     "output_type": "execute_result"
    }
   ],
   "source": [
    "import statsmodels.api as sm\n",
    "\n",
    "y = data['gdp_log']\n",
    "x = data['ict_log']\n",
    "reg = # ADD YOUR CODE HERE\n",
    "reg.summary()"
   ]
  },
  {
   "cell_type": "code",
   "execution_count": null,
   "id": "e13ef4d2-49f6-4f31-9760-b41277b11edd",
   "metadata": {},
   "outputs": [],
   "source": []
  },
  {
   "cell_type": "code",
   "execution_count": null,
   "id": "4e77714d-2fe8-4113-9f5b-f402f9d75bdb",
   "metadata": {},
   "outputs": [],
   "source": []
  }
 ],
 "metadata": {
  "kernelspec": {
   "display_name": "Python 3 (ipykernel)",
   "language": "python",
   "name": "python3"
  },
  "language_info": {
   "codemirror_mode": {
    "name": "ipython",
    "version": 3
   },
   "file_extension": ".py",
   "mimetype": "text/x-python",
   "name": "python",
   "nbconvert_exporter": "python",
   "pygments_lexer": "ipython3",
   "version": "3.12.7"
  }
 },
 "nbformat": 4,
 "nbformat_minor": 5
}
