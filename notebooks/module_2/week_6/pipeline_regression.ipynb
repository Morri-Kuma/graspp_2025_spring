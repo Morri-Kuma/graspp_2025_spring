{
 "cells": [
  {
   "cell_type": "markdown",
   "id": "c90c36ab-a9c8-4903-80f5-aafb0a85ab09",
   "metadata": {},
   "source": [
    "# 1. Pipeline"
   ]
  },
  {
   "cell_type": "markdown",
   "id": "ee3b426c-e56f-4db2-b591-9e583e4805ba",
   "metadata": {},
   "source": [
    "### 1.A Check working directory"
   ]
  },
  {
   "cell_type": "code",
   "execution_count": 1,
   "id": "61773996-d13e-4c93-a2eb-185ce13fab8b",
   "metadata": {},
   "outputs": [
    {
     "data": {
      "text/plain": [
       "'/Users/corybaird/Desktop/graspp_2025_spring/notebooks/module_2/week_6'"
      ]
     },
     "execution_count": 1,
     "metadata": {},
     "output_type": "execute_result"
    }
   ],
   "source": [
    "import os\n",
    "os.getcwd()"
   ]
  },
  {
   "cell_type": "code",
   "execution_count": 2,
   "id": "2a5d42c4-4a52-4453-83df-5eba37f40771",
   "metadata": {},
   "outputs": [
    {
     "data": {
      "text/plain": [
       "'/Users/corybaird/Desktop/graspp_2025_spring'"
      ]
     },
     "execution_count": 2,
     "metadata": {},
     "output_type": "execute_result"
    }
   ],
   "source": [
    "os.chdir(\"../../../\")\n",
    "os.getcwd()"
   ]
  },
  {
   "cell_type": "markdown",
   "id": "d54fa3c3-72cc-4832-bb23-9d384cfe70d2",
   "metadata": {},
   "source": [
    "## 1.1 Download Data"
   ]
  },
  {
   "cell_type": "code",
   "execution_count": 3,
   "id": "e6fcb002-646c-4106-9f4f-62d9662ad17d",
   "metadata": {},
   "outputs": [],
   "source": [
    "from src.data.download_worldbank import DownloadWorldBank\n",
    "\n",
    "#### Run the following block if you change something in the python file and want those changes reflected in the notebook\n",
    "\n",
    "import importlib\n",
    "import src.data.download_worldbank\n",
    "importlib.reload(src.data.download_worldbank)\n",
    "from src.data.download_worldbank import DownloadWorldBank"
   ]
  },
  {
   "cell_type": "code",
   "execution_count": 4,
   "id": "c040f862-b1e6-4859-bfb3-5417862802db",
   "metadata": {},
   "outputs": [
    {
     "name": "stdout",
     "output_type": "stream",
     "text": [
      "Processing indicator: BX.KLT.DINV.WD.GD.ZS\n",
      "Processing indicator: MS.MIL.XPND.GD.ZS\n",
      "Processing indicator: NY.GDP.MKTP.CD\n",
      "Processing indicator: NE.EXP.GNFS.ZS\n",
      "Processing indicator: NE.IMP.GNFS.ZS\n"
     ]
    },
    {
     "data": {
      "text/html": [
       "<div>\n",
       "<style scoped>\n",
       "    .dataframe tbody tr th:only-of-type {\n",
       "        vertical-align: middle;\n",
       "    }\n",
       "\n",
       "    .dataframe tbody tr th {\n",
       "        vertical-align: top;\n",
       "    }\n",
       "\n",
       "    .dataframe thead th {\n",
       "        text-align: right;\n",
       "    }\n",
       "</style>\n",
       "<table border=\"1\" class=\"dataframe\">\n",
       "  <thead>\n",
       "    <tr style=\"text-align: right;\">\n",
       "      <th>series</th>\n",
       "      <th>country</th>\n",
       "      <th>date</th>\n",
       "      <th>BX.KLT.DINV.WD.GD.ZS</th>\n",
       "      <th>MS.MIL.XPND.GD.ZS</th>\n",
       "      <th>NY.GDP.MKTP.CD</th>\n",
       "      <th>NE.EXP.GNFS.ZS</th>\n",
       "      <th>NE.IMP.GNFS.ZS</th>\n",
       "    </tr>\n",
       "  </thead>\n",
       "  <tbody>\n",
       "    <tr>\n",
       "      <th>0</th>\n",
       "      <td>CAN</td>\n",
       "      <td>1990-01-01</td>\n",
       "      <td>1.409504</td>\n",
       "      <td>1.958794</td>\n",
       "      <td>5.960756e+11</td>\n",
       "      <td>25.074299</td>\n",
       "      <td>24.920165</td>\n",
       "    </tr>\n",
       "    <tr>\n",
       "      <th>1</th>\n",
       "      <td>CAN</td>\n",
       "      <td>1991-01-01</td>\n",
       "      <td>0.573724</td>\n",
       "      <td>1.895444</td>\n",
       "      <td>6.125277e+11</td>\n",
       "      <td>24.353317</td>\n",
       "      <td>24.870150</td>\n",
       "    </tr>\n",
       "  </tbody>\n",
       "</table>\n",
       "</div>"
      ],
      "text/plain": [
       "series country       date  BX.KLT.DINV.WD.GD.ZS  MS.MIL.XPND.GD.ZS  \\\n",
       "0          CAN 1990-01-01              1.409504           1.958794   \n",
       "1          CAN 1991-01-01              0.573724           1.895444   \n",
       "\n",
       "series  NY.GDP.MKTP.CD  NE.EXP.GNFS.ZS  NE.IMP.GNFS.ZS  \n",
       "0         5.960756e+11       25.074299       24.920165  \n",
       "1         6.125277e+11       24.353317       24.870150  "
      ]
     },
     "execution_count": 4,
     "metadata": {},
     "output_type": "execute_result"
    }
   ],
   "source": [
    "download_wb = DownloadWorldBank(\n",
    "    indicators=['BX.KLT.DINV.WD.GD.ZS', 'MS.MIL.XPND.GD.ZS', 'NY.GDP.MKTP.CD', 'NE.EXP.GNFS.ZS', 'NE.IMP.GNFS.ZS'],\n",
    "    countries=['US', 'CA', 'MX', 'JP'],\n",
    "    date_start='1990',\n",
    "    date_end='2023'\n",
    ")\n",
    "\n",
    "df_wb_raw = download_wb.run(save_data = False)\n",
    "df_wb_raw.head(2)"
   ]
  },
  {
   "cell_type": "markdown",
   "id": "de93b6a3-4d7c-4e8c-b4bb-0c2117eecb18",
   "metadata": {},
   "source": [
    "## 1.2. Transform"
   ]
  },
  {
   "cell_type": "code",
   "execution_count": 5,
   "id": "a8d8e58a-f679-41bb-954a-ac8f8f0f11c1",
   "metadata": {},
   "outputs": [],
   "source": [
    "#### Run the following block if you change something in the python file and want those changes reflected in the notebook\n",
    "\n",
    "import src.features.generate_features\n",
    "importlib.reload(src.features.generate_features)\n",
    "from src.features.generate_features import GenerateFeatures"
   ]
  },
  {
   "cell_type": "code",
   "execution_count": 6,
   "id": "f7f17316-63be-47a5-9cc7-5b02d6bbd34b",
   "metadata": {},
   "outputs": [],
   "source": [
    "from src.features.generate_features import GenerateFeatures\n",
    "transform_tool = GenerateFeatures(\n",
    "    rolling_window = 3,\n",
    "    features = [\"changepct\", \"changeraw\", \"rollingmean\", \"log\", \"zscore\", \"lag1\", \"lag2\"],\n",
    "    time_period = 'YE'\n",
    ")"
   ]
  },
  {
   "cell_type": "code",
   "execution_count": 7,
   "id": "1fccf789-be7a-4523-9c17-cff336a22c8a",
   "metadata": {},
   "outputs": [
    {
     "data": {
      "text/html": [
       "<div>\n",
       "<style scoped>\n",
       "    .dataframe tbody tr th:only-of-type {\n",
       "        vertical-align: middle;\n",
       "    }\n",
       "\n",
       "    .dataframe tbody tr th {\n",
       "        vertical-align: top;\n",
       "    }\n",
       "\n",
       "    .dataframe thead th {\n",
       "        text-align: right;\n",
       "    }\n",
       "</style>\n",
       "<table border=\"1\" class=\"dataframe\">\n",
       "  <thead>\n",
       "    <tr style=\"text-align: right;\">\n",
       "      <th></th>\n",
       "      <th>country</th>\n",
       "      <th>date</th>\n",
       "      <th>BX.KLT.DINV.WD.GD.ZS</th>\n",
       "      <th>MS.MIL.XPND.GD.ZS</th>\n",
       "      <th>NY.GDP.MKTP.CD</th>\n",
       "      <th>NE.EXP.GNFS.ZS</th>\n",
       "      <th>NE.IMP.GNFS.ZS</th>\n",
       "      <th>BX.KLT.DINV.WD.GD.ZS_chraw1YE</th>\n",
       "      <th>MS.MIL.XPND.GD.ZS_chraw1YE</th>\n",
       "      <th>NY.GDP.MKTP.CD_chraw1YE</th>\n",
       "      <th>...</th>\n",
       "      <th>BX.KLT.DINV.WD.GD.ZS_lag2YE</th>\n",
       "      <th>MS.MIL.XPND.GD.ZS_lag2YE</th>\n",
       "      <th>NY.GDP.MKTP.CD_lag2YE</th>\n",
       "      <th>NE.EXP.GNFS.ZS_lag2YE</th>\n",
       "      <th>NE.IMP.GNFS.ZS_lag2YE</th>\n",
       "      <th>BX.KLT.DINV.WD.GD.ZS_zscoreYE</th>\n",
       "      <th>MS.MIL.XPND.GD.ZS_zscoreYE</th>\n",
       "      <th>NY.GDP.MKTP.CD_zscoreYE</th>\n",
       "      <th>NE.EXP.GNFS.ZS_zscoreYE</th>\n",
       "      <th>NE.IMP.GNFS.ZS_zscoreYE</th>\n",
       "    </tr>\n",
       "  </thead>\n",
       "  <tbody>\n",
       "    <tr>\n",
       "      <th>0</th>\n",
       "      <td>CAN</td>\n",
       "      <td>1990-01-01</td>\n",
       "      <td>1.409504</td>\n",
       "      <td>1.958794</td>\n",
       "      <td>5.960756e+11</td>\n",
       "      <td>25.074299</td>\n",
       "      <td>24.920165</td>\n",
       "      <td>NaN</td>\n",
       "      <td>NaN</td>\n",
       "      <td>NaN</td>\n",
       "      <td>...</td>\n",
       "      <td>NaN</td>\n",
       "      <td>NaN</td>\n",
       "      <td>NaN</td>\n",
       "      <td>NaN</td>\n",
       "      <td>NaN</td>\n",
       "      <td>-0.718364</td>\n",
       "      <td>2.568489</td>\n",
       "      <td>-1.211509</td>\n",
       "      <td>-1.786018</td>\n",
       "      <td>-2.506791</td>\n",
       "    </tr>\n",
       "    <tr>\n",
       "      <th>1</th>\n",
       "      <td>CAN</td>\n",
       "      <td>1991-01-01</td>\n",
       "      <td>0.573724</td>\n",
       "      <td>1.895444</td>\n",
       "      <td>6.125277e+11</td>\n",
       "      <td>24.353317</td>\n",
       "      <td>24.870150</td>\n",
       "      <td>-0.83578</td>\n",
       "      <td>-0.063349</td>\n",
       "      <td>1.645212e+10</td>\n",
       "      <td>...</td>\n",
       "      <td>NaN</td>\n",
       "      <td>NaN</td>\n",
       "      <td>NaN</td>\n",
       "      <td>NaN</td>\n",
       "      <td>NaN</td>\n",
       "      <td>-1.163844</td>\n",
       "      <td>2.318356</td>\n",
       "      <td>-1.180728</td>\n",
       "      <td>-1.938141</td>\n",
       "      <td>-2.522882</td>\n",
       "    </tr>\n",
       "  </tbody>\n",
       "</table>\n",
       "<p>2 rows × 42 columns</p>\n",
       "</div>"
      ],
      "text/plain": [
       "  country       date  BX.KLT.DINV.WD.GD.ZS  MS.MIL.XPND.GD.ZS  NY.GDP.MKTP.CD  \\\n",
       "0     CAN 1990-01-01              1.409504           1.958794    5.960756e+11   \n",
       "1     CAN 1991-01-01              0.573724           1.895444    6.125277e+11   \n",
       "\n",
       "   NE.EXP.GNFS.ZS  NE.IMP.GNFS.ZS  BX.KLT.DINV.WD.GD.ZS_chraw1YE  \\\n",
       "0       25.074299       24.920165                            NaN   \n",
       "1       24.353317       24.870150                       -0.83578   \n",
       "\n",
       "   MS.MIL.XPND.GD.ZS_chraw1YE  NY.GDP.MKTP.CD_chraw1YE  ...  \\\n",
       "0                         NaN                      NaN  ...   \n",
       "1                   -0.063349             1.645212e+10  ...   \n",
       "\n",
       "   BX.KLT.DINV.WD.GD.ZS_lag2YE  MS.MIL.XPND.GD.ZS_lag2YE  \\\n",
       "0                          NaN                       NaN   \n",
       "1                          NaN                       NaN   \n",
       "\n",
       "   NY.GDP.MKTP.CD_lag2YE  NE.EXP.GNFS.ZS_lag2YE  NE.IMP.GNFS.ZS_lag2YE  \\\n",
       "0                    NaN                    NaN                    NaN   \n",
       "1                    NaN                    NaN                    NaN   \n",
       "\n",
       "   BX.KLT.DINV.WD.GD.ZS_zscoreYE  MS.MIL.XPND.GD.ZS_zscoreYE  \\\n",
       "0                      -0.718364                    2.568489   \n",
       "1                      -1.163844                    2.318356   \n",
       "\n",
       "   NY.GDP.MKTP.CD_zscoreYE  NE.EXP.GNFS.ZS_zscoreYE  NE.IMP.GNFS.ZS_zscoreYE  \n",
       "0                -1.211509                -1.786018                -2.506791  \n",
       "1                -1.180728                -1.938141                -2.522882  \n",
       "\n",
       "[2 rows x 42 columns]"
      ]
     },
     "execution_count": 7,
     "metadata": {},
     "output_type": "execute_result"
    }
   ],
   "source": [
    "df_wb_feat = transform_tool.transform(df_wb_raw)\n",
    "df_wb_feat.head(2)"
   ]
  },
  {
   "cell_type": "markdown",
   "id": "c7cc2007-35b5-4ac8-adf8-a5053949e163",
   "metadata": {},
   "source": [
    "## 1.3 Running the pipeline from one file"
   ]
  },
  {
   "cell_type": "code",
   "execution_count": 8,
   "id": "7cc61393-5006-45de-8981-4584cfa855f7",
   "metadata": {},
   "outputs": [],
   "source": [
    "#os.makedirs(\"data/features\", exist_ok =True)"
   ]
  },
  {
   "cell_type": "markdown",
   "id": "e307ea52-6c32-4977-aecb-c6fd7ecf10ad",
   "metadata": {},
   "source": [
    "### 1.3.1 Bootleg"
   ]
  },
  {
   "cell_type": "code",
   "execution_count": 9,
   "id": "9e58a0f4-d5f6-40f3-84f3-91e92f1dcbde",
   "metadata": {},
   "outputs": [
    {
     "name": "stdout",
     "output_type": "stream",
     "text": [
      "Step 1: Download\n",
      "Processing indicator: BX.KLT.DINV.WD.GD.ZS\n",
      "Processing indicator: MS.MIL.XPND.GD.ZS\n",
      "Processing indicator: NY.GDP.MKTP.CD\n",
      "Processing indicator: NE.EXP.GNFS.ZS\n",
      "Processing indicator: NE.IMP.GNFS.ZS\n",
      "Step 2: Transform\n",
      "Saved features here: data/features/wb_feat.csv\n"
     ]
    }
   ],
   "source": [
    "import run_analysis"
   ]
  },
  {
   "cell_type": "markdown",
   "id": "32a2ea8e-1e7f-4b02-9a28-c73a1eba0336",
   "metadata": {},
   "source": [
    "### 1.3.2 Advanced"
   ]
  },
  {
   "cell_type": "code",
   "execution_count": 10,
   "id": "6989f392-eb67-4689-a2ae-81ebc56f5104",
   "metadata": {},
   "outputs": [],
   "source": [
    "from run_analysis_advanced import RunAnalysis"
   ]
  },
  {
   "cell_type": "code",
   "execution_count": 11,
   "id": "3cddf16e-3f62-45f8-bcf2-e6e160515c30",
   "metadata": {
    "scrolled": true
   },
   "outputs": [
    {
     "name": "stdout",
     "output_type": "stream",
     "text": [
      "Step 1: Download\n",
      "Processing indicator: BX.KLT.DINV.WD.GD.ZS\n",
      "Processing indicator: MS.MIL.XPND.GD.ZS\n",
      "Processing indicator: NY.GDP.MKTP.CD\n",
      "Processing indicator: NE.EXP.GNFS.ZS\n",
      "Processing indicator: NE.IMP.GNFS.ZS\n",
      "series country       date  BX.KLT.DINV.WD.GD.ZS  MS.MIL.XPND.GD.ZS  \\\n",
      "0          CAN 2020-01-01              1.758971           1.400836   \n",
      "1          CAN 2021-01-01              2.998283           1.267294   \n",
      "\n",
      "series  NY.GDP.MKTP.CD  NE.EXP.GNFS.ZS  NE.IMP.GNFS.ZS  \n",
      "0         1.655685e+12       29.473647       31.683124  \n",
      "1         2.007472e+12       31.216353       31.207811  \n",
      "\n",
      "Step 2: Transform\n",
      "Saved features here: data/features/wb_feat.csv\n",
      "\n",
      "Step 3: Visualization (Implementation Placeholder)\n",
      "Visualization steps would be executed here if the module exists and data is available.\n"
     ]
    }
   ],
   "source": [
    "analysis_runner = RunAnalysis()\n",
    "analysis_runner.run()"
   ]
  },
  {
   "cell_type": "markdown",
   "id": "18a84be3-825f-4f9c-8798-34c648118892",
   "metadata": {},
   "source": [
    "# 2. Adding viz and regression to the pipeline"
   ]
  },
  {
   "cell_type": "markdown",
   "id": "345e3454-a28e-438c-9225-a45d6eca05a2",
   "metadata": {},
   "source": [
    "## 2.1 Add viz"
   ]
  },
  {
   "cell_type": "code",
   "execution_count": 12,
   "id": "706f982d-56ef-49c2-9847-10a0f81980b1",
   "metadata": {},
   "outputs": [],
   "source": [
    "from src.viz.plot_basic import PlotBasic"
   ]
  },
  {
   "cell_type": "code",
   "execution_count": 13,
   "id": "bd2d58c2-b36a-4a3a-bd9e-0ae0f345e5e8",
   "metadata": {},
   "outputs": [
    {
     "name": "stdout",
     "output_type": "stream",
     "text": [
      "Saved plot to: reports/viz/timeseries.png\n"
     ]
    }
   ],
   "source": [
    "viz = PlotBasic()\n",
    "viz.plot_timeseries(\n",
    "        df=df_wb_feat,\n",
    "    y_data='NE.EXP.GNFS.ZS',\n",
    "    y_feat='chpct1YE',\n",
    "    x_data='NY.GDP.MKTP.CD',\n",
    "    x_feat='chpct1YE',\n",
    "    x_label='GDP Growth',\n",
    "    y_label='Export Growth'\n",
    ")"
   ]
  },
  {
   "cell_type": "code",
   "execution_count": 14,
   "id": "e0baddd6-d921-4176-8473-c28d2db1d75f",
   "metadata": {},
   "outputs": [
    {
     "name": "stdout",
     "output_type": "stream",
     "text": [
      "Saved plot to: reports/viz/histogram.png\n"
     ]
    },
    {
     "name": "stderr",
     "output_type": "stream",
     "text": [
      "/Users/corybaird/Desktop/graspp_2025_spring/src/viz/plot_basic.py:48: UserWarning: No artists with labels found to put in legend.  Note that artists whose label start with an underscore are ignored when legend() is called with no argument.\n",
      "  plt.legend()\n"
     ]
    }
   ],
   "source": [
    "viz.plot_histogram(\n",
    "    df=df_wb_feat,\n",
    "    data_col='NY.GDP.MKTP.CD',\n",
    "    feature='chpct1YE',\n",
    "    label='GDP Growth',\n",
    "    title='Histogram of GDP Growth',\n",
    ")"
   ]
  },
  {
   "cell_type": "code",
   "execution_count": 15,
   "id": "611c8a2c-b022-46ba-b8d1-c5b1f9454416",
   "metadata": {},
   "outputs": [
    {
     "name": "stdout",
     "output_type": "stream",
     "text": [
      "                               OLS Regression Results                              \n",
      "===================================================================================\n",
      "Dep. Variable:     NE.EXP.GNFS.ZS_chpct1YE   R-squared:                       0.171\n",
      "Model:                                 OLS   Adj. R-squared:                  0.165\n",
      "Method:                      Least Squares   F-statistic:                     26.87\n",
      "Date:                     Fri, 16 May 2025   Prob (F-statistic):           8.11e-07\n",
      "Time:                             11:26:10   Log-Likelihood:                 127.72\n",
      "No. Observations:                      132   AIC:                            -251.4\n",
      "Df Residuals:                          130   BIC:                            -245.7\n",
      "Df Model:                                1                                         \n",
      "Covariance Type:                 nonrobust                                         \n",
      "===========================================================================================\n",
      "                              coef    std err          t      P>|t|      [0.025      0.975]\n",
      "-------------------------------------------------------------------------------------------\n",
      "const                       0.0381      0.009      4.295      0.000       0.021       0.056\n",
      "NY.GDP.MKTP.CD_chpct1YE    -0.4484      0.087     -5.184      0.000      -0.620      -0.277\n",
      "==============================================================================\n",
      "Omnibus:                       81.770   Durbin-Watson:                   1.909\n",
      "Prob(Omnibus):                  0.000   Jarque-Bera (JB):             1196.537\n",
      "Skew:                           1.735   Prob(JB):                    1.50e-260\n",
      "Kurtosis:                      17.336   Cond. No.                         10.7\n",
      "==============================================================================\n",
      "\n",
      "Notes:\n",
      "[1] Standard Errors assume that the covariance matrix of the errors is correctly specified.\n",
      "Saved plot to: reports/viz/scatter.png\n"
     ]
    }
   ],
   "source": [
    "viz.plot_scatter(\n",
    "    df=df_wb_feat,\n",
    "    y_data='NE.EXP.GNFS.ZS',\n",
    "    y_feat='chpct1YE',\n",
    "    x_data='NY.GDP.MKTP.CD',\n",
    "    x_feat='chpct1YE',\n",
    "    x_label='GDP Growth',\n",
    "    y_label='Export Growth'\n",
    ")"
   ]
  },
  {
   "cell_type": "markdown",
   "id": "24493f8e-cb61-4389-8826-93db54b58b5c",
   "metadata": {},
   "source": [
    "## 2.2 Running viz in the pipline"
   ]
  },
  {
   "cell_type": "code",
   "execution_count": 18,
   "id": "3815ce01-8203-40a7-a1a8-b8092dfb031a",
   "metadata": {},
   "outputs": [
    {
     "name": "stdout",
     "output_type": "stream",
     "text": [
      "Step 1: Download\n",
      "Processing indicator: BX.KLT.DINV.WD.GD.ZS\n",
      "Processing indicator: MS.MIL.XPND.GD.ZS\n",
      "Processing indicator: NY.GDP.MKTP.CD\n",
      "Processing indicator: NE.EXP.GNFS.ZS\n",
      "Processing indicator: NE.IMP.GNFS.ZS\n",
      "series country       date  ...  NE.EXP.GNFS.ZS  NE.IMP.GNFS.ZS\n",
      "0          CAN 2010-01-01  ...       29.167382       31.040740\n",
      "1          CAN 2011-01-01  ...       30.678392       31.820347\n",
      "\n",
      "[2 rows x 7 columns]\n",
      "\n",
      "Step 2: Transform\n",
      "Saved features here: data/features/wb_feat.csv\n",
      "Index(['country', 'date', 'BX.KLT.DINV.WD.GD.ZS', 'MS.MIL.XPND.GD.ZS',\n",
      "       'NY.GDP.MKTP.CD', 'NE.EXP.GNFS.ZS', 'NE.IMP.GNFS.ZS',\n",
      "       'BX.KLT.DINV.WD.GD.ZS_chraw1YE', 'MS.MIL.XPND.GD.ZS_chraw1YE',\n",
      "       'NY.GDP.MKTP.CD_chraw1YE', 'NE.EXP.GNFS.ZS_chraw1YE',\n",
      "       'NE.IMP.GNFS.ZS_chraw1YE', 'BX.KLT.DINV.WD.GD.ZS_chpct1YE',\n",
      "       'MS.MIL.XPND.GD.ZS_chpct1YE', 'NY.GDP.MKTP.CD_chpct1YE',\n",
      "       'NE.EXP.GNFS.ZS_chpct1YE', 'NE.IMP.GNFS.ZS_chpct1YE',\n",
      "       'BX.KLT.DINV.WD.GD.ZS_ma3YE', 'MS.MIL.XPND.GD.ZS_ma3YE',\n",
      "       'NY.GDP.MKTP.CD_ma3YE', 'NE.EXP.GNFS.ZS_ma3YE', 'NE.IMP.GNFS.ZS_ma3YE',\n",
      "       'BX.KLT.DINV.WD.GD.ZS_ma3YE_chgYE', 'MS.MIL.XPND.GD.ZS_ma3YE_chgYE',\n",
      "       'NY.GDP.MKTP.CD_ma3YE_chgYE', 'NE.EXP.GNFS.ZS_ma3YE_chgYE',\n",
      "       'NE.IMP.GNFS.ZS_ma3YE_chgYE', 'BX.KLT.DINV.WD.GD.ZS_lag1YE',\n",
      "       'MS.MIL.XPND.GD.ZS_lag1YE', 'NY.GDP.MKTP.CD_lag1YE',\n",
      "       'NE.EXP.GNFS.ZS_lag1YE', 'NE.IMP.GNFS.ZS_lag1YE',\n",
      "       'BX.KLT.DINV.WD.GD.ZS_lag2YE', 'MS.MIL.XPND.GD.ZS_lag2YE',\n",
      "       'NY.GDP.MKTP.CD_lag2YE', 'NE.EXP.GNFS.ZS_lag2YE',\n",
      "       'NE.IMP.GNFS.ZS_lag2YE', 'BX.KLT.DINV.WD.GD.ZS_zscoreYE',\n",
      "       'MS.MIL.XPND.GD.ZS_zscoreYE', 'NY.GDP.MKTP.CD_zscoreYE',\n",
      "       'NE.EXP.GNFS.ZS_zscoreYE', 'NE.IMP.GNFS.ZS_zscoreYE'],\n",
      "      dtype='object')\n",
      "\n",
      "Step 3: Visualization\n",
      "Saved plot to: reports/viz/timeseries.png\n",
      "/Users/corybaird/Desktop/graspp_2025_spring/src/viz/plot_basic.py:48: UserWarning: No artists with labels found to put in legend.  Note that artists whose label start with an underscore are ignored when legend() is called with no argument.\n",
      "  plt.legend()\n",
      "Saved plot to: reports/viz/histogram.png\n",
      "                               OLS Regression Results                              \n",
      "===================================================================================\n",
      "Dep. Variable:     NE.EXP.GNFS.ZS_chpct1YE   R-squared:                       0.065\n",
      "Model:                                 OLS   Adj. R-squared:                  0.046\n",
      "Method:                      Least Squares   F-statistic:                     3.451\n",
      "Date:                     Fri, 16 May 2025   Prob (F-statistic):             0.0691\n",
      "Time:                             11:26:35   Log-Likelihood:                 68.389\n",
      "No. Observations:                       52   AIC:                            -132.8\n",
      "Df Residuals:                           50   BIC:                            -128.9\n",
      "Df Model:                                1                                         \n",
      "Covariance Type:                 nonrobust                                         \n",
      "===========================================================================================\n",
      "                              coef    std err          t      P>|t|      [0.025      0.975]\n",
      "-------------------------------------------------------------------------------------------\n",
      "const                       0.0191      0.010      1.999      0.051   -9.13e-05       0.038\n",
      "NY.GDP.MKTP.CD_chpct1YE    -0.2074      0.112     -1.858      0.069      -0.432       0.017\n",
      "==============================================================================\n",
      "Omnibus:                        0.795   Durbin-Watson:                   2.082\n",
      "Prob(Omnibus):                  0.672   Jarque-Bera (JB):                0.402\n",
      "Skew:                          -0.210   Prob(JB):                        0.818\n",
      "Kurtosis:                       3.099   Cond. No.                         12.2\n",
      "==============================================================================\n",
      "\n",
      "Notes:\n",
      "[1] Standard Errors assume that the covariance matrix of the errors is correctly specified.\n",
      "Saved plot to: reports/viz/scatter.png\n"
     ]
    }
   ],
   "source": [
    "! python -m src.pipeline.run_pipeline "
   ]
  },
  {
   "cell_type": "markdown",
   "id": "84f8cf63-75cf-442e-991e-581b6a339cbc",
   "metadata": {},
   "source": [
    "# 3. Regression explainer"
   ]
  },
  {
   "cell_type": "markdown",
   "id": "ac7cabff-7203-4f93-bbd0-90d9d0261360",
   "metadata": {},
   "source": [
    "## 3.A Regression using previous data\n"
   ]
  },
  {
   "cell_type": "code",
   "execution_count": 15,
   "id": "8827f5f2-b31d-4c97-8ec1-7fce8d05ac8f",
   "metadata": {},
   "outputs": [
    {
     "name": "stdout",
     "output_type": "stream",
     "text": [
      "                               OLS Regression Results                              \n",
      "===================================================================================\n",
      "Dep. Variable:     NE.EXP.GNFS.ZS_chpct1YE   R-squared:                       0.171\n",
      "Model:                                 OLS   Adj. R-squared:                  0.165\n",
      "Method:                      Least Squares   F-statistic:                     26.87\n",
      "Date:                     Fri, 16 May 2025   Prob (F-statistic):           8.11e-07\n",
      "Time:                             11:05:33   Log-Likelihood:                 127.72\n",
      "No. Observations:                      132   AIC:                            -251.4\n",
      "Df Residuals:                          130   BIC:                            -245.7\n",
      "Df Model:                                1                                         \n",
      "Covariance Type:                 nonrobust                                         \n",
      "===========================================================================================\n",
      "                              coef    std err          t      P>|t|      [0.025      0.975]\n",
      "-------------------------------------------------------------------------------------------\n",
      "const                       0.0381      0.009      4.295      0.000       0.021       0.056\n",
      "NY.GDP.MKTP.CD_chpct1YE    -0.4484      0.087     -5.184      0.000      -0.620      -0.277\n",
      "==============================================================================\n",
      "Omnibus:                       81.770   Durbin-Watson:                   1.909\n",
      "Prob(Omnibus):                  0.000   Jarque-Bera (JB):             1196.537\n",
      "Skew:                           1.735   Prob(JB):                    1.50e-260\n",
      "Kurtosis:                      17.336   Cond. No.                         10.7\n",
      "==============================================================================\n",
      "\n",
      "Notes:\n",
      "[1] Standard Errors assume that the covariance matrix of the errors is correctly specified.\n"
     ]
    }
   ],
   "source": [
    "import statsmodels.api as sm\n",
    "import pandas as pd\n",
    "\n",
    "def ols(df, y_data, y_feat, x_data, x_feat):\n",
    "    y_col = f\"{y_data}_{y_feat}\" if y_feat else y_data\n",
    "    x_col = f\"{x_data}_{x_feat}\" if x_feat else x_data\n",
    "\n",
    "    data = df[[x_col, y_col]].dropna()\n",
    "\n",
    "    y = data[y_col]\n",
    "    X = data[x_col]\n",
    "    X = sm.add_constant(X)  # Add a constant (intercept) to the independent variable\n",
    "\n",
    "    model = sm.OLS(y, X)\n",
    "    results = model.fit()\n",
    "    print(results.summary())\n",
    "\n",
    "ols(\n",
    "    df=df_wb_feat,\n",
    "    y_data='NE.EXP.GNFS.ZS',\n",
    "    y_feat='chpct1YE',\n",
    "    x_data='NY.GDP.MKTP.CD',\n",
    "    x_feat='chpct1YE'\n",
    ")"
   ]
  },
  {
   "cell_type": "markdown",
   "id": "60188750-b234-4272-9383-e598ceb5cacb",
   "metadata": {},
   "source": [
    "## 3.1 Simple linear regression\n",
    "\n",
    "#### Ignore the fancy math\n",
    "\n",
    "$$y_t = \\alpha + b_t x_t + u_t$$\n",
    "\n",
    "$$\\hat\\beta = \\frac{\\sum(x_t-\\bar x_t)(y_t-\\bar y)}{\\sum(x_t-\\bar x)^2}=\\frac{Cov(x_i,y_i)}{Var(x_i}\\\\\n",
    "\\hat\\alpha = \\bar y-\\hat\\beta \\bar x$$"
   ]
  },
  {
   "cell_type": "code",
   "execution_count": 23,
   "id": "05613706-7470-4a81-ae20-26bc24b10894",
   "metadata": {},
   "outputs": [
    {
     "data": {
      "text/html": [
       "<div>\n",
       "<style scoped>\n",
       "    .dataframe tbody tr th:only-of-type {\n",
       "        vertical-align: middle;\n",
       "    }\n",
       "\n",
       "    .dataframe tbody tr th {\n",
       "        vertical-align: top;\n",
       "    }\n",
       "\n",
       "    .dataframe thead th {\n",
       "        text-align: right;\n",
       "    }\n",
       "</style>\n",
       "<table border=\"1\" class=\"dataframe\">\n",
       "  <thead>\n",
       "    <tr style=\"text-align: right;\">\n",
       "      <th></th>\n",
       "      <th>c</th>\n",
       "      <th>y</th>\n",
       "      <th>x</th>\n",
       "    </tr>\n",
       "  </thead>\n",
       "  <tbody>\n",
       "    <tr>\n",
       "      <th>0</th>\n",
       "      <td>1.0</td>\n",
       "      <td>1.331587</td>\n",
       "      <td>0.715279</td>\n",
       "    </tr>\n",
       "    <tr>\n",
       "      <th>1</th>\n",
       "      <td>1.0</td>\n",
       "      <td>-1.545400</td>\n",
       "      <td>-0.008384</td>\n",
       "    </tr>\n",
       "  </tbody>\n",
       "</table>\n",
       "</div>"
      ],
      "text/plain": [
       "     c         y         x\n",
       "0  1.0  1.331587  0.715279\n",
       "1  1.0 -1.545400 -0.008384"
      ]
     },
     "execution_count": 23,
     "metadata": {},
     "output_type": "execute_result"
    }
   ],
   "source": [
    "import numpy as np\n",
    "from scipy import stats\n",
    "\n",
    "np.random.seed(10)\n",
    "n = 20 # sample size \n",
    "K = 2  # number of paramters\n",
    "sim = np.hstack( ( np.ones( (n,1) ), stats.norm.rvs(  size = (n, K))) ) \n",
    "df = pd.DataFrame(sim, columns=['c','y','x'])\n",
    "df.head(2) "
   ]
  },
  {
   "cell_type": "markdown",
   "id": "62229b50-fc95-496a-8f94-48218d7234b5",
   "metadata": {},
   "source": [
    "### 3.1.1 Calculate by hand"
   ]
  },
  {
   "cell_type": "code",
   "execution_count": 35,
   "id": "d8b31bc8-ba49-4711-adf8-8d5bae644a03",
   "metadata": {},
   "outputs": [
    {
     "data": {
      "text/html": [
       "<div>\n",
       "<style scoped>\n",
       "    .dataframe tbody tr th:only-of-type {\n",
       "        vertical-align: middle;\n",
       "    }\n",
       "\n",
       "    .dataframe tbody tr th {\n",
       "        vertical-align: top;\n",
       "    }\n",
       "\n",
       "    .dataframe thead th {\n",
       "        text-align: right;\n",
       "    }\n",
       "</style>\n",
       "<table border=\"1\" class=\"dataframe\">\n",
       "  <thead>\n",
       "    <tr style=\"text-align: right;\">\n",
       "      <th></th>\n",
       "      <th>c</th>\n",
       "      <th>y</th>\n",
       "      <th>x</th>\n",
       "      <th>xt</th>\n",
       "      <th>yt</th>\n",
       "      <th>xt2</th>\n",
       "      <th>yt2</th>\n",
       "      <th>beta</th>\n",
       "      <th>alpha</th>\n",
       "      <th>y_hat</th>\n",
       "      <th>u_hat</th>\n",
       "      <th>y_mean</th>\n",
       "    </tr>\n",
       "  </thead>\n",
       "  <tbody>\n",
       "    <tr>\n",
       "      <th>0</th>\n",
       "      <td>1.0</td>\n",
       "      <td>1.331587</td>\n",
       "      <td>0.715279</td>\n",
       "      <td>0.511383</td>\n",
       "      <td>1.191970</td>\n",
       "      <td>0.511624</td>\n",
       "      <td>1.773123</td>\n",
       "      <td>0.153198</td>\n",
       "      <td>0.10838</td>\n",
       "      <td>0.217960</td>\n",
       "      <td>1.113627</td>\n",
       "      <td>0.139617</td>\n",
       "    </tr>\n",
       "    <tr>\n",
       "      <th>1</th>\n",
       "      <td>1.0</td>\n",
       "      <td>-1.545400</td>\n",
       "      <td>-0.008384</td>\n",
       "      <td>-0.212280</td>\n",
       "      <td>-1.685017</td>\n",
       "      <td>0.000070</td>\n",
       "      <td>2.388262</td>\n",
       "      <td>0.153198</td>\n",
       "      <td>0.10838</td>\n",
       "      <td>0.107096</td>\n",
       "      <td>-1.652496</td>\n",
       "      <td>0.139617</td>\n",
       "    </tr>\n",
       "  </tbody>\n",
       "</table>\n",
       "</div>"
      ],
      "text/plain": [
       "     c         y         x        xt        yt       xt2       yt2      beta  \\\n",
       "0  1.0  1.331587  0.715279  0.511383  1.191970  0.511624  1.773123  0.153198   \n",
       "1  1.0 -1.545400 -0.008384 -0.212280 -1.685017  0.000070  2.388262  0.153198   \n",
       "\n",
       "     alpha     y_hat     u_hat    y_mean  \n",
       "0  0.10838  0.217960  1.113627  0.139617  \n",
       "1  0.10838  0.107096 -1.652496  0.139617  "
      ]
     },
     "execution_count": 35,
     "metadata": {},
     "output_type": "execute_result"
    }
   ],
   "source": [
    "df['xt'] = (df.x-np.mean(df.x))\n",
    "df['yt'] = (df.y-np.mean(df.y))\n",
    "df['xt2'] = df.x**2\n",
    "df['yt2'] = df.y**2\n",
    "df['beta'] = sum(df.xt*df.yt)/sum(df.xt2)\n",
    "df['alpha'] = np.mean(df.y)- (df.beta*np.mean(df.x)) #Also alpha\n",
    "df['y_hat'] = df.alpha+df.x*df.beta\n",
    "df['u_hat'] = df.y-df.alpha-(df.beta*df.x)\n",
    "df['y_mean'] = np.mean(df.y)\n",
    "df.head(2)"
   ]
  },
  {
   "cell_type": "code",
   "execution_count": 36,
   "id": "98e20810-f59f-4024-abab-ad3b14dcd749",
   "metadata": {},
   "outputs": [
    {
     "name": "stdout",
     "output_type": "stream",
     "text": [
      "Beta_hand: 0.1532, Alpha_hand: 0.1084\n"
     ]
    }
   ],
   "source": [
    "beta = sum(df.xt*df.yt)/sum(df.xt2)\n",
    "alpha = np.mean(df.y)- (beta*np.mean(df.x))\n",
    "print(\"Beta_hand: {:.4f}, Alpha_hand: {:.4f}\".format(beta, alpha))"
   ]
  },
  {
   "cell_type": "markdown",
   "id": "01ccec11-61f2-406f-a00f-0adcde6fd098",
   "metadata": {},
   "source": [
    "### 3.1.2 Calculate with statsmodels"
   ]
  },
  {
   "cell_type": "code",
   "execution_count": 19,
   "id": "d10ac5e1-5433-4e3b-80f9-fac32b766b71",
   "metadata": {},
   "outputs": [],
   "source": [
    "X = df[['c','x']]\n",
    "y = df['y']"
   ]
  },
  {
   "cell_type": "code",
   "execution_count": 22,
   "id": "489fd290-1c11-4ed4-a191-8c3490bc404c",
   "metadata": {},
   "outputs": [
    {
     "name": "stdout",
     "output_type": "stream",
     "text": [
      "Beta_hand: 0.1532, Alpha_hand: 0.1084\n",
      "Beta_model: 0.1598, Alpha_model: 0.1070\n"
     ]
    },
    {
     "name": "stderr",
     "output_type": "stream",
     "text": [
      "/var/folders/zq/kvy10zrs4_7cgk5bsh75ycx40000gn/T/ipykernel_44816/1206623027.py:5: FutureWarning: Series.__getitem__ treating keys as positions is deprecated. In a future version, integer keys will always be treated as labels (consistent with DataFrame behavior). To access a value by position, use `ser.iloc[pos]`\n",
      "  print(\"Beta_model: {:.4f}, Alpha_model: {:.4f}\".format(ols_single .params[1], ols_single.params[0]))\n"
     ]
    }
   ],
   "source": [
    "ols_single = sm.OLS(y , X).fit()\n",
    "\n",
    "print(\"Beta_model: {:.4f}, Alpha_model: {:.4f}\".format(ols_single .params[1], ols_single.params[0]))"
   ]
  },
  {
   "cell_type": "markdown",
   "id": "888411ea-4ace-4784-a1e6-b278aaf7cc36",
   "metadata": {},
   "source": [
    "### 3.1.3 Visual"
   ]
  },
  {
   "cell_type": "code",
   "execution_count": 26,
   "id": "8a69e3bb-2559-44b8-af90-dfb95fc13b25",
   "metadata": {},
   "outputs": [
    {
     "data": {
      "image/png": "[encoded data removed]",
      "text/plain": [
       "<Figure size 640x480 with 1 Axes>"
      ]
     },
     "metadata": {},
     "output_type": "display_data"
    }
   ],
   "source": [
    "import matplotlib.pyplot as plt\n",
    "\n",
    "x=df.x.values\n",
    "y=df.y.values\n",
    "best_fit = df.y_hat.values\n",
    "tss_graph = -(df.y-df.y_mean)\n",
    "ess_graph = -(df.y_hat-df.y_mean)\n",
    "rss_graph = -(df.y-df.y_hat)\n",
    "\n",
    "ess = sum((df.y_hat-df.y_mean)**2)\n",
    "rss = sum((df.y-df.y_hat)**2)\n",
    "tss = sum((df.y-df.y_mean)**2)\n",
    "r2= 1-rss/tss\n",
    "\n",
    "ax = plt.scatter(df.x,df.y, label=None)\n",
    "ax =plt.plot(df.x, df.y_hat, color='red')\n",
    "ax =plt.plot(df.x, df.y_mean, color='green', label='Y_mean')\n",
    "\n",
    "for i in range(0,len(df.x)):\n",
    "    plt.arrow(x[i], y[i], 0, tss_graph[i], head_width=None, head_length=None, linewidth=4, color='pink', label='TSS')\n",
    "\n",
    "for i in range(0,len(df.x)):\n",
    "    plt.arrow(x[i], y[i], 0, rss_graph[i], head_width=None, head_length=None, linewidth=.5, color='blue', label='RSS')\n",
    "\n",
    "for i in range(0,len(df.x)):\n",
    "    plt.arrow(x[i], best_fit[i], 0, ess_graph[i], head_width=None, head_length=None, linewidth=2, color='orange', label='ESS')\n",
    "\n",
    "plt.annotate(\"TSS\", xy=(-1, -.5), xytext=(-1, -.5), size=15,color='pink')\n",
    "plt.annotate(\"RSS\", xy=(-1, -1.5), xytext=(-1, -1.5), size=15,color='blue')\n",
    "plt.annotate(\"ESS\", xy=(-1, -1), xytext=(-1, -1), size=15,color='orange')\n",
    "\n",
    "\n",
    "plt.legend(['Best fit', 'Avg.','Observations'])\n",
    "\n",
    "    \n",
    "    \n",
    "plt.title('R2= {:.3f}'.format(r2))\n",
    "plt.show()"
   ]
  },
  {
   "cell_type": "markdown",
   "id": "4aaad67f-543b-4f5e-b467-6e7ce99d2a7a",
   "metadata": {},
   "source": [
    "## 3.2 Calculating OLS using matrix algebra"
   ]
  },
  {
   "cell_type": "markdown",
   "id": "7e16b581-59b8-4ce8-adb9-beb7bb811a3b",
   "metadata": {},
   "source": [
    "### 3.2.1 Generate random data X,Y"
   ]
  },
  {
   "cell_type": "code",
   "execution_count": 31,
   "id": "24009495-7b9d-4754-91fc-790e5d960e98",
   "metadata": {},
   "outputs": [],
   "source": [
    "np.random.seed(1)\n",
    "n = 20 # sample size \n",
    "K = 2  # number of paramters\n",
    "X = np.hstack( ( np.ones( (n,1) ), stats.norm.rvs(  size = (n, K))) )  # Indpendent variables\n",
    "Y = stats.norm.rvs(  size = (20, 1)) # Dependent Variables"
   ]
  },
  {
   "cell_type": "markdown",
   "id": "0bd91cfe-d85c-4e74-babb-d691d7542178",
   "metadata": {},
   "source": [
    "### 3.2.2 Calculate  $\\hat{\\beta}$ by hand: \n",
    "\n",
    "Remember $\\hat{\\beta}: (X' X)^{-1} X'Y$"
   ]
  },
  {
   "cell_type": "code",
   "execution_count": 32,
   "id": "c87f53d4-3861-4d5c-832e-730e867884da",
   "metadata": {},
   "outputs": [],
   "source": [
    "bhat = np.linalg.inv(X.T@X)@(X.T@Y)\n",
    "intercept = bhat[0]\n",
    "bhat1 = bhat[1]\n",
    "bhat2 = bhat[2]"
   ]
  },
  {
   "cell_type": "markdown",
   "id": "cf931400-992a-4cb7-b00c-65407bc51f1c",
   "metadata": {},
   "source": [
    "### 3.2.3 Compare to statsmodels"
   ]
  },
  {
   "cell_type": "code",
   "execution_count": 33,
   "id": "39afe3b6-639d-4fe2-9782-dd6bce3e3079",
   "metadata": {},
   "outputs": [],
   "source": [
    "#Create dataframe with Y & X\n",
    "\n",
    "yx = pd.DataFrame(np.concatenate([Y,X], axis=1))\n",
    "yx.columns = ['Y', 'Constant', 'X1', 'X2']\n",
    "\n",
    "# Import ols from statsmodels, and fit a model to the data\n",
    "from statsmodels.formula.api import ols\n",
    "ols_multi = ols(formula=\"Y ~ X1+X2\", data=yx)\n",
    "ols_multi = ols_multi.fit()\n",
    "\n",
    "# Extract the model parameter values, and assign them to a0, a1\n",
    "a0 = ols_multi.params['Intercept']\n",
    "a1 = ols_multi.params['X1']\n",
    "a2 = ols_multi.params['X2']"
   ]
  },
  {
   "cell_type": "code",
   "execution_count": 34,
   "id": "a5e884d4-d71b-46d5-b7b1-212877174ba3",
   "metadata": {},
   "outputs": [
    {
     "name": "stdout",
     "output_type": "stream",
     "text": [
      "Calculated by hand:\n",
      "Intercept = 0.2859\n",
      "bhat1= 0.1272 \n",
      "bhat2= 0.2650 \n",
      "\n",
      "Calculated using OLS:\n",
      "Intercept  = 0.2859\n",
      "bhat1 = 0.1272\n",
      "bhat2 = 0.2650\n"
     ]
    },
    {
     "name": "stderr",
     "output_type": "stream",
     "text": [
      "/var/folders/zq/kvy10zrs4_7cgk5bsh75ycx40000gn/T/ipykernel_44816/4255896593.py:2: DeprecationWarning: Conversion of an array with ndim > 0 to a scalar is deprecated, and will error in future. Ensure you extract a single element from your array before performing this operation. (Deprecated NumPy 1.25.)\n",
      "  print('Intercept = {:.4f}'.format(float(intercept)))\n",
      "/var/folders/zq/kvy10zrs4_7cgk5bsh75ycx40000gn/T/ipykernel_44816/4255896593.py:3: DeprecationWarning: Conversion of an array with ndim > 0 to a scalar is deprecated, and will error in future. Ensure you extract a single element from your array before performing this operation. (Deprecated NumPy 1.25.)\n",
      "  print('bhat1= {:.4f} '.format(float(bhat1)))\n",
      "/var/folders/zq/kvy10zrs4_7cgk5bsh75ycx40000gn/T/ipykernel_44816/4255896593.py:4: DeprecationWarning: Conversion of an array with ndim > 0 to a scalar is deprecated, and will error in future. Ensure you extract a single element from your array before performing this operation. (Deprecated NumPy 1.25.)\n",
      "  print('bhat2= {:.4f} '.format(float(bhat2)))\n"
     ]
    }
   ],
   "source": [
    "print('Calculated by hand:')\n",
    "print('Intercept = {:.4f}'.format(float(intercept)))\n",
    "print('bhat1= {:.4f} '.format(float(bhat1)))\n",
    "print('bhat2= {:.4f} '.format(float(bhat2)))\n",
    "print('')\n",
    "print('Calculated using OLS:')\n",
    "print( \"Intercept  = {:0.4f}\".format(a0) )\n",
    "print( \"bhat1 = {:0.4f}\".format(a1) )\n",
    "print( \"bhat2 = {:0.4f}\".format(a2) )"
   ]
  },
  {
   "cell_type": "code",
   "execution_count": null,
   "id": "4c43df98-200b-4328-b379-42c07a36d392",
   "metadata": {},
   "outputs": [],
   "source": []
  }
 ],
 "metadata": {
  "kernelspec": {
   "display_name": "Python 3 (ipykernel)",
   "language": "python",
   "name": "python3"
  },
  "language_info": {
   "codemirror_mode": {
    "name": "ipython",
    "version": 3
   },
   "file_extension": ".py",
   "mimetype": "text/x-python",
   "name": "python",
   "nbconvert_exporter": "python",
   "pygments_lexer": "ipython3",
   "version": "3.12.6"
  }
 },
 "nbformat": 4,
 "nbformat_minor": 5
}
